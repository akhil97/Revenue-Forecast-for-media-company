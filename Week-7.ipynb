{
  "cells": [
    {
      "cell_type": "code",
      "source": [
        "import pyodbc\n",
        "import pandas as pd\n",
        "import numpy as np\n",
        "import jinja2\n",
        "import matplotlib.pyplot as plt\n",
        "import joblib"
      ],
      "outputs": [
        {
          "output_type": "stream",
          "name": "stderr",
          "text": "2025-02-04 23:04:39.270856: E external/local_xla/xla/stream_executor/cuda/cuda_fft.cc:485] Unable to register cuFFT factory: Attempting to register factory for plugin cuFFT when one has already been registered\n2025-02-04 23:04:40.123474: E external/local_xla/xla/stream_executor/cuda/cuda_dnn.cc:8454] Unable to register cuDNN factory: Attempting to register factory for plugin cuDNN when one has already been registered\n2025-02-04 23:04:40.374449: E external/local_xla/xla/stream_executor/cuda/cuda_blas.cc:1452] Unable to register cuBLAS factory: Attempting to register factory for plugin cuBLAS when one has already been registered\n2025-02-04 23:04:42.300046: I tensorflow/core/platform/cpu_feature_guard.cc:210] This TensorFlow binary is optimized to use available CPU instructions in performance-critical operations.\nTo enable the following instructions: AVX2 AVX512F FMA, in other operations, rebuild TensorFlow with the appropriate compiler flags.\n2025-02-04 23:04:46.928156: W tensorflow/compiler/tf2tensorrt/utils/py_utils.cc:38] TF-TRT Warning: Could not find TensorRT\n"
        }
      ],
      "execution_count": 1,
      "metadata": {
        "gather": {
          "logged": 1738710291899
        }
      }
    },
    {
      "cell_type": "code",
      "source": [
        "server = 'techentdec.database.windows.net'  \n",
        "database = 'QAECECRM_dec'                   \n",
        "username = 'dbadmin'                \n",
        "password = 'DashTech1234'         \n",
        "connection_string = f\"\"\"\n",
        "Driver={{ODBC Driver 17 for SQL Server}};\n",
        "Server={server};\n",
        "Database={database};\n",
        "Uid={username};\n",
        "Pwd={password};\n",
        "Encrypt=yes;\n",
        "TrustServerCertificate=no;\n",
        "Connection Timeout=30;\n",
        "\"\"\"\n",
        "\n",
        "try:\n",
        "    connection = pyodbc.connect(connection_string)\n",
        "    print(\"Connection successful!\")\n",
        "except Exception as e:\n",
        "    print(f\"Connection failed: {e}\")\n",
        "    exit()\n",
        "\n",
        "sql_query = \"\"\"\n",
        "SELECT L.*,B.*, BA.*\n",
        "FROM Lead AS L\n",
        "JOIN BlueCard AS B ON L.LeadId = B.LeadId\n",
        "JOIN BlueCardArtist AS BA ON B.BlueCardId = BA.BlueCardId  \n",
        "\"\"\"\n",
        "\n",
        "df = pd.read_sql(sql_query, connection)\n",
        "print(df) "
      ],
      "outputs": [
        {
          "output_type": "stream",
          "name": "stdout",
          "text": "Connection successful!\n        LeadId    AgentId  RecommendedAgentId FirstName  LastName  \\\n0            6      417.0                 NaN   Presley   Bennett   \n1            6      417.0                 NaN   Presley   Bennett   \n2            6      417.0                 NaN   Presley   Bennett   \n3            6      417.0                 NaN   Presley   Bennett   \n4            6      417.0                 NaN   Presley   Bennett   \n...        ...        ...                 ...       ...       ...   \n158262   45663  1000418.0                 NaN   Allison  Shilling   \n158263   45663  1000418.0                 NaN   Allison  Shilling   \n158264   45663  1000418.0                 NaN   Allison  Shilling   \n158265   45663  1000418.0                 NaN   Allison  Shilling   \n158266   45663  1000418.0                 NaN   Allison  Shilling   \n\n                      EmailAddress     PhoneNumber  CanText  \\\n0            psbennett92@gmail.com    662-902-6385     True   \n1            psbennett92@gmail.com    662-902-6385     True   \n2            psbennett92@gmail.com    662-902-6385     True   \n3            psbennett92@gmail.com    662-902-6385     True   \n4            psbennett92@gmail.com    662-902-6385     True   \n...                            ...             ...      ...   \n158262  talamas.shilling@gmail.com  (203) 644-9958     True   \n158263  talamas.shilling@gmail.com  (203) 644-9958     True   \n158264  talamas.shilling@gmail.com  (203) 644-9958     True   \n158265  talamas.shilling@gmail.com  (203) 644-9958     True   \n158266  talamas.shilling@gmail.com  (203) 644-9958     True   \n\n                  EventDate EventVenueName  ... BlueCardId  ArtistId    Gross  \\\n0       2019-03-16 00:00:00     Sea Island  ...     800394     13683  15000.0   \n1       2019-03-16 00:00:00     Sea Island  ...     800394     13910  36500.0   \n2       2019-03-16 00:00:00     Sea Island  ...     800394     30359  11500.0   \n3       2019-03-16 00:00:00     Sea Island  ...     800394     32109  10250.0   \n4       2019-03-16 00:00:00     Sea Island  ...     800394     16629  24500.0   \n...                     ...            ...  ...        ...       ...      ...   \n158262  2024-03-02 00:00:00  Alhambra Hall  ...     868542     15554   3750.0   \n158263  2024-03-02 00:00:00  Alhambra Hall  ...     868542       767   4250.0   \n158264  2024-03-02 00:00:00  Alhambra Hall  ...     868542     18856   5500.0   \n158265  2024-03-02 00:00:00  Alhambra Hall  ...     868542    101363   5000.0   \n158266  2024-03-02 00:00:00  Alhambra Hall  ...     868542    101981   4250.0   \n\n        Net    Notes IsDeleted             CreatedDate CreatedById  \\\n0       NaN              False 2018-06-04 13:34:34.207         417   \n1       NaN              False 2018-06-04 13:38:35.527         417   \n2       NaN              False 2018-06-04 13:38:35.527         417   \n3       NaN              False 2018-06-04 13:38:35.527         417   \n4       NaN              False 2018-06-04 13:38:35.540         417   \n...     ...      ...       ...                     ...         ...   \n158262  NaN              False 2024-04-18 18:36:31.767     1000418   \n158263  NaN              False 2024-04-18 18:36:31.767     1000418   \n158264  NaN  go 5750     False 2024-04-18 18:36:31.767     1000418   \n158265  NaN  5250 ok     False 2024-04-18 18:36:31.767     1000418   \n158266  NaN              False 2024-04-18 18:36:31.767     1000418   \n\n                   UpdatedDate  UpdatedById  \n0      2018-06-04 13:37:40.743        417.0  \n1      2018-06-04 15:51:01.637        417.0  \n2      2018-06-04 13:39:55.683        417.0  \n3      2018-06-04 13:39:55.713        417.0  \n4      2018-06-04 15:51:01.667        417.0  \n...                        ...          ...  \n158262                     NaT          NaN  \n158263                     NaT          NaN  \n158264                     NaT          NaN  \n158265                     NaT          NaN  \n158266                     NaT          NaN  \n\n[158267 rows x 82 columns]\n"
        },
        {
          "output_type": "stream",
          "name": "stderr",
          "text": "/tmp/ipykernel_3053/2240645407.py:30: UserWarning: pandas only supports SQLAlchemy connectable (engine/connection) or database string URI or sqlite3 DBAPI2 connection. Other DBAPI2 objects are not tested. Please consider using SQLAlchemy.\n  df = pd.read_sql(sql_query, connection)\n"
        }
      ],
      "execution_count": 2,
      "metadata": {
        "gather": {
          "logged": 1738710315788
        }
      }
    },
    {
      "cell_type": "code",
      "source": [
        "df.to_csv('dataset.csv')"
      ],
      "outputs": [],
      "execution_count": 5,
      "metadata": {
        "gather": {
          "logged": 1738710629445
        }
      }
    }
  ],
  "metadata": {
    "kernelspec": {
      "name": "python38-azureml",
      "language": "python",
      "display_name": "Python 3.8 - AzureML"
    },
    "language_info": {
      "name": "python",
      "version": "3.10.11",
      "mimetype": "text/x-python",
      "codemirror_mode": {
        "name": "ipython",
        "version": 3
      },
      "pygments_lexer": "ipython3",
      "nbconvert_exporter": "python",
      "file_extension": ".py"
    },
    "microsoft": {
      "ms_spell_check": {
        "ms_spell_check_language": "en"
      },
      "host": {
        "AzureML": {
          "notebookHasBeenCompleted": true
        }
      }
    },
    "kernel_info": {
      "name": "python38-azureml"
    },
    "nteract": {
      "version": "nteract-front-end@1.0.0"
    }
  },
  "nbformat": 4,
  "nbformat_minor": 2
}