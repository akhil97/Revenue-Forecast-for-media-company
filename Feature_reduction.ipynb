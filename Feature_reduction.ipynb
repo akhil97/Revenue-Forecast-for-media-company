{
  "cells": [
    {
      "cell_type": "code",
      "source": [
        "!pip install statsmodel\n",
        "!pip install matplotlib\n",
        "!pip install numpy\n",
        "!pip install pandas\n",
        "!pip install scikit-learn\n",
        "!pip install tensorflow"
      ],
      "outputs": [
        {
          "output_type": "stream",
          "name": "stdout",
          "text": "\u001b[31mERROR: Could not find a version that satisfies the requirement statsmodel (from versions: none)\u001b[0m\u001b[31m\r\n\u001b[0m\u001b[31mERROR: No matching distribution found for statsmodel\u001b[0m\u001b[31m\r\n\u001b[0mRequirement already satisfied: matplotlib in /anaconda/envs/azureml_py38/lib/python3.10/site-packages (3.6.3)\r\nRequirement already satisfied: packaging>=20.0 in /anaconda/envs/azureml_py38/lib/python3.10/site-packages (from matplotlib) (24.1)\r\nRequirement already satisfied: python-dateutil>=2.7 in /anaconda/envs/azureml_py38/lib/python3.10/site-packages (from matplotlib) (2.9.0.post0)\r\nRequirement already satisfied: kiwisolver>=1.0.1 in /anaconda/envs/azureml_py38/lib/python3.10/site-packages (from matplotlib) (1.4.5)\r\nRequirement already satisfied: pillow>=6.2.0 in /anaconda/envs/azureml_py38/lib/python3.10/site-packages (from matplotlib) (9.2.0)\r\nRequirement already satisfied: pyparsing>=2.2.1 in /anaconda/envs/azureml_py38/lib/python3.10/site-packages (from matplotlib) (3.1.2)\r\nRequirement already satisfied: cycler>=0.10 in /anaconda/envs/azureml_py38/lib/python3.10/site-packages (from matplotlib) (0.12.1)\r\nRequirement already satisfied: fonttools>=4.22.0 in /anaconda/envs/azureml_py38/lib/python3.10/site-packages (from matplotlib) (4.51.0)\r\nRequirement already satisfied: numpy>=1.19 in /anaconda/envs/azureml_py38/lib/python3.10/site-packages (from matplotlib) (1.23.5)\r\nRequirement already satisfied: contourpy>=1.0.1 in /anaconda/envs/azureml_py38/lib/python3.10/site-packages (from matplotlib) (1.2.1)\r\nRequirement already satisfied: six>=1.5 in /anaconda/envs/azureml_py38/lib/python3.10/site-packages (from python-dateutil>=2.7->matplotlib) (1.16.0)\r\nRequirement already satisfied: numpy in /anaconda/envs/azureml_py38/lib/python3.10/site-packages (1.23.5)\r\nRequirement already satisfied: pandas in /anaconda/envs/azureml_py38/lib/python3.10/site-packages (2.1.4)\r\nRequirement already satisfied: pytz>=2020.1 in /anaconda/envs/azureml_py38/lib/python3.10/site-packages (from pandas) (2022.5)\r\nRequirement already satisfied: tzdata>=2022.1 in /anaconda/envs/azureml_py38/lib/python3.10/site-packages (from pandas) (2024.1)\r\nRequirement already satisfied: numpy<2,>=1.22.4 in /anaconda/envs/azureml_py38/lib/python3.10/site-packages (from pandas) (1.23.5)\r\nRequirement already satisfied: python-dateutil>=2.8.2 in /anaconda/envs/azureml_py38/lib/python3.10/site-packages (from pandas) (2.9.0.post0)\r\nRequirement already satisfied: six>=1.5 in /anaconda/envs/azureml_py38/lib/python3.10/site-packages (from python-dateutil>=2.8.2->pandas) (1.16.0)\r\nRequirement already satisfied: scikit-learn in /anaconda/envs/azureml_py38/lib/python3.10/site-packages (1.4.2)\r\nRequirement already satisfied: numpy>=1.19.5 in /anaconda/envs/azureml_py38/lib/python3.10/site-packages (from scikit-learn) (1.23.5)\r\nRequirement already satisfied: joblib>=1.2.0 in /anaconda/envs/azureml_py38/lib/python3.10/site-packages (from scikit-learn) (1.2.0)\r\nRequirement already satisfied: scipy>=1.6.0 in /anaconda/envs/azureml_py38/lib/python3.10/site-packages (from scikit-learn) (1.10.1)\r\nRequirement already satisfied: threadpoolctl>=2.0.0 in /anaconda/envs/azureml_py38/lib/python3.10/site-packages (from scikit-learn) (3.5.0)\r\nRequirement already satisfied: tensorflow in /anaconda/envs/azureml_py38/lib/python3.10/site-packages (2.17.0)\r\nRequirement already satisfied: wrapt>=1.11.0 in /anaconda/envs/azureml_py38/lib/python3.10/site-packages (from tensorflow) (1.14.1)\r\nRequirement already satisfied: libclang>=13.0.0 in /anaconda/envs/azureml_py38/lib/python3.10/site-packages (from tensorflow) (18.1.1)\r\nRequirement already satisfied: grpcio<2.0,>=1.24.3 in /anaconda/envs/azureml_py38/lib/python3.10/site-packages (from tensorflow) (1.65.4)\r\nRequirement already satisfied: packaging in /anaconda/envs/azureml_py38/lib/python3.10/site-packages (from tensorflow) (24.1)\r\nRequirement already satisfied: opt-einsum>=2.3.2 in /anaconda/envs/azureml_py38/lib/python3.10/site-packages (from tensorflow) (3.3.0)\r\nRequirement already satisfied: setuptools in /anaconda/envs/azureml_py38/lib/python3.10/site-packages (from tensorflow) (68.0.0)\r\nRequirement already satisfied: six>=1.12.0 in /anaconda/envs/azureml_py38/lib/python3.10/site-packages (from tensorflow) (1.16.0)\r\nRequirement already satisfied: keras>=3.2.0 in /anaconda/envs/azureml_py38/lib/python3.10/site-packages (from tensorflow) (3.5.0)\r\nCollecting ml-dtypes<0.5.0,>=0.3.1\r\n  Downloading ml_dtypes-0.4.1-cp310-cp310-manylinux_2_17_x86_64.manylinux2014_x86_64.whl (2.2 MB)\r\n\u001b[?25l     \u001b[90m━━━━━━━━━━━━━━━━━━━━━━━━━━━━━━━━━━━━━━━━\u001b[0m \u001b[32m0.0/2.2 MB\u001b[0m \u001b[31m?\u001b[0m eta \u001b[36m-:--:--\u001b[0m\r\u001b[2K     \u001b[91m━━━━━━━━━━━━━━━━━━━━━━━\u001b[0m\u001b[91m╸\u001b[0m\u001b[90m━━━━━━━━━━━━━━━━\u001b[0m \u001b[32m1.3/2.2 MB\u001b[0m \u001b[31m38.4 MB/s\u001b[0m eta \u001b[36m0:00:01\u001b[0m\r\u001b[2K     \u001b[90m━━━━━━━━━━━━━━━━━━━━━━━━━━━━━━━━━━━━━━━━\u001b[0m \u001b[32m2.2/2.2 MB\u001b[0m \u001b[31m37.0 MB/s\u001b[0m eta \u001b[36m0:00:00\u001b[0m\r\n\u001b[?25hRequirement already satisfied: requests<3,>=2.21.0 in /anaconda/envs/azureml_py38/lib/python3.10/site-packages (from tensorflow) (2.32.3)\r\nRequirement already satisfied: protobuf!=4.21.0,!=4.21.1,!=4.21.2,!=4.21.3,!=4.21.4,!=4.21.5,<5.0.0dev,>=3.20.3 in /anaconda/envs/azureml_py38/lib/python3.10/site-packages (from tensorflow) (3.20.3)\r\nRequirement already satisfied: tensorflow-io-gcs-filesystem>=0.23.1 in /anaconda/envs/azureml_py38/lib/python3.10/site-packages (from tensorflow) (0.37.1)\r\nRequirement already satisfied: astunparse>=1.6.0 in /anaconda/envs/azureml_py38/lib/python3.10/site-packages (from tensorflow) (1.6.3)\r\nRequirement already satisfied: typing-extensions>=3.6.6 in /anaconda/envs/azureml_py38/lib/python3.10/site-packages (from tensorflow) (4.12.2)\r\nRequirement already satisfied: tensorboard<2.18,>=2.17 in /anaconda/envs/azureml_py38/lib/python3.10/site-packages (from tensorflow) (2.17.1)\r\nRequirement already satisfied: absl-py>=1.0.0 in /anaconda/envs/azureml_py38/lib/python3.10/site-packages (from tensorflow) (2.1.0)\r\nRequirement already satisfied: flatbuffers>=24.3.25 in /anaconda/envs/azureml_py38/lib/python3.10/site-packages (from tensorflow) (24.3.25)\r\nRequirement already satisfied: google-pasta>=0.1.1 in /anaconda/envs/azureml_py38/lib/python3.10/site-packages (from tensorflow) (0.2.0)\r\nRequirement already satisfied: h5py>=3.10.0 in /anaconda/envs/azureml_py38/lib/python3.10/site-packages (from tensorflow) (3.11.0)\r\nRequirement already satisfied: gast!=0.5.0,!=0.5.1,!=0.5.2,>=0.2.1 in /anaconda/envs/azureml_py38/lib/python3.10/site-packages (from tensorflow) (0.6.0)\r\nRequirement already satisfied: termcolor>=1.1.0 in /anaconda/envs/azureml_py38/lib/python3.10/site-packages (from tensorflow) (2.4.0)\r\nRequirement already satisfied: numpy<2.0.0,>=1.23.5 in /anaconda/envs/azureml_py38/lib/python3.10/site-packages (from tensorflow) (1.23.5)\r\nRequirement already satisfied: wheel<1.0,>=0.23.0 in /anaconda/envs/azureml_py38/lib/python3.10/site-packages (from astunparse>=1.6.0->tensorflow) (0.41.2)\r\nRequirement already satisfied: namex in /anaconda/envs/azureml_py38/lib/python3.10/site-packages (from keras>=3.2.0->tensorflow) (0.0.8)\r\nRequirement already satisfied: rich in /anaconda/envs/azureml_py38/lib/python3.10/site-packages (from keras>=3.2.0->tensorflow) (13.8.1)\r\nRequirement already satisfied: optree in /anaconda/envs/azureml_py38/lib/python3.10/site-packages (from keras>=3.2.0->tensorflow) (0.12.1)\r\nRequirement already satisfied: charset-normalizer<4,>=2 in /anaconda/envs/azureml_py38/lib/python3.10/site-packages (from requests<3,>=2.21.0->tensorflow) (3.3.2)\r\nRequirement already satisfied: urllib3<3,>=1.21.1 in /anaconda/envs/azureml_py38/lib/python3.10/site-packages (from requests<3,>=2.21.0->tensorflow) (1.26.19)\r\nRequirement already satisfied: idna<4,>=2.5 in /anaconda/envs/azureml_py38/lib/python3.10/site-packages (from requests<3,>=2.21.0->tensorflow) (3.7)\r\nRequirement already satisfied: certifi>=2017.4.17 in /anaconda/envs/azureml_py38/lib/python3.10/site-packages (from requests<3,>=2.21.0->tensorflow) (2024.8.30)\r\nRequirement already satisfied: markdown>=2.6.8 in /anaconda/envs/azureml_py38/lib/python3.10/site-packages (from tensorboard<2.18,>=2.17->tensorflow) (3.7)\r\nRequirement already satisfied: tensorboard-data-server<0.8.0,>=0.7.0 in /anaconda/envs/azureml_py38/lib/python3.10/site-packages (from tensorboard<2.18,>=2.17->tensorflow) (0.7.2)\r\nRequirement already satisfied: werkzeug>=1.0.1 in /anaconda/envs/azureml_py38/lib/python3.10/site-packages (from tensorboard<2.18,>=2.17->tensorflow) (2.3.8)\r\nRequirement already satisfied: MarkupSafe>=2.1.1 in /anaconda/envs/azureml_py38/lib/python3.10/site-packages (from werkzeug>=1.0.1->tensorboard<2.18,>=2.17->tensorflow) (2.1.3)\r\nRequirement already satisfied: pygments<3.0.0,>=2.13.0 in /anaconda/envs/azureml_py38/lib/python3.10/site-packages (from rich->keras>=3.2.0->tensorflow) (2.18.0)\r\nRequirement already satisfied: markdown-it-py>=2.2.0 in /anaconda/envs/azureml_py38/lib/python3.10/site-packages (from rich->keras>=3.2.0->tensorflow) (3.0.0)\r\nRequirement already satisfied: mdurl~=0.1 in /anaconda/envs/azureml_py38/lib/python3.10/site-packages (from markdown-it-py>=2.2.0->rich->keras>=3.2.0->tensorflow) (0.1.2)\r\nInstalling collected packages: ml-dtypes\r\n  Attempting uninstall: ml-dtypes\r\n    Found existing installation: ml_dtypes 0.5.0\r\n    Uninstalling ml_dtypes-0.5.0:\r\n      Successfully uninstalled ml_dtypes-0.5.0\r\nSuccessfully installed ml-dtypes-0.4.1\r\n"
        }
      ],
      "execution_count": 1,
      "metadata": {
        "jupyter": {
          "source_hidden": false,
          "outputs_hidden": false
        },
        "nteract": {
          "transient": {
            "deleting": false
          }
        }
      }
    },
    {
      "cell_type": "code",
      "source": [
        "import pyodbc\n",
        "import pandas as pd\n",
        "import numpy as np\n",
        "import jinja2\n",
        "import matplotlib.pyplot as plt\n",
        "import joblib\n",
        "\n",
        "from statsmodels.tsa.stattools import adfuller\n",
        "from sklearn.preprocessing import LabelEncoder\n",
        "from sklearn.ensemble import RandomForestClassifier\n",
        "from sklearn.preprocessing import RobustScaler\n",
        "from sklearn.preprocessing import OneHotEncoder\n",
        "from tensorflow.keras.models import Sequential\n",
        "from tensorflow.keras.layers import LSTM, Dense"
      ],
      "outputs": [
        {
          "output_type": "stream",
          "name": "stderr",
          "text": "2025-01-30 17:16:11.003129: E external/local_xla/xla/stream_executor/cuda/cuda_fft.cc:485] Unable to register cuFFT factory: Attempting to register factory for plugin cuFFT when one has already been registered\n2025-01-30 17:16:11.902450: E external/local_xla/xla/stream_executor/cuda/cuda_dnn.cc:8454] Unable to register cuDNN factory: Attempting to register factory for plugin cuDNN when one has already been registered\n2025-01-30 17:16:12.161070: E external/local_xla/xla/stream_executor/cuda/cuda_blas.cc:1452] Unable to register cuBLAS factory: Attempting to register factory for plugin cuBLAS when one has already been registered\n2025-01-30 17:16:14.139745: I tensorflow/core/platform/cpu_feature_guard.cc:210] This TensorFlow binary is optimized to use available CPU instructions in performance-critical operations.\nTo enable the following instructions: AVX2 AVX512F FMA, in other operations, rebuild TensorFlow with the appropriate compiler flags.\n2025-01-30 17:16:18.539697: W tensorflow/compiler/tf2tensorrt/utils/py_utils.cc:38] TF-TRT Warning: Could not find TensorRT\n"
        }
      ],
      "execution_count": 2,
      "metadata": {
        "gather": {
          "logged": 1738257383293
        }
      }
    },
    {
      "cell_type": "code",
      "source": [
        "server = 'techentdec.database.windows.net'  \n",
        "database = 'QAECECRM_dec'                   \n",
        "username = 'dbadmin'                \n",
        "password = 'DashTech1234'         \n",
        "connection_string = f\"\"\"\n",
        "Driver={{ODBC Driver 17 for SQL Server}};\n",
        "Server={server};\n",
        "Database={database};\n",
        "Uid={username};\n",
        "Pwd={password};\n",
        "Encrypt=yes;\n",
        "TrustServerCertificate=no;\n",
        "Connection Timeout=30;\n",
        "\"\"\"\n",
        "\n",
        "try:\n",
        "    connection = pyodbc.connect(connection_string)\n",
        "    print(\"Connection successful!\")\n",
        "except Exception as e:\n",
        "    print(f\"Connection failed: {e}\")\n",
        "    exit()\n",
        "\n",
        "sql_query = \"\"\"\n",
        "SELECT L.*,B.*, BA.*\n",
        "FROM Lead AS L\n",
        "JOIN BlueCard AS B ON L.LeadId = B.LeadId\n",
        "JOIN BlueCardArtist AS BA ON B.BlueCardId = BA.BlueCardId  \n",
        "\"\"\"\n",
        "\n",
        "df = pd.read_sql(sql_query, connection)\n",
        "print(df) "
      ],
      "outputs": [
        {
          "output_type": "stream",
          "name": "stderr",
          "text": "/tmp/ipykernel_3063/2240645407.py:30: UserWarning: pandas only supports SQLAlchemy connectable (engine/connection) or database string URI or sqlite3 DBAPI2 connection. Other DBAPI2 objects are not tested. Please consider using SQLAlchemy.\n  df = pd.read_sql(sql_query, connection)\n"
        },
        {
          "output_type": "stream",
          "name": "stdout",
          "text": "        LeadId    AgentId  RecommendedAgentId FirstName  LastName  \\\n0            6      417.0                 NaN   Presley   Bennett   \n1            6      417.0                 NaN   Presley   Bennett   \n2            6      417.0                 NaN   Presley   Bennett   \n3            6      417.0                 NaN   Presley   Bennett   \n4            6      417.0                 NaN   Presley   Bennett   \n...        ...        ...                 ...       ...       ...   \n158262   45663  1000418.0                 NaN   Allison  Shilling   \n158263   45663  1000418.0                 NaN   Allison  Shilling   \n158264   45663  1000418.0                 NaN   Allison  Shilling   \n158265   45663  1000418.0                 NaN   Allison  Shilling   \n158266   45663  1000418.0                 NaN   Allison  Shilling   \n\n                      EmailAddress     PhoneNumber  CanText  \\\n0            psbennett92@gmail.com    662-902-6385     True   \n1            psbennett92@gmail.com    662-902-6385     True   \n2            psbennett92@gmail.com    662-902-6385     True   \n3            psbennett92@gmail.com    662-902-6385     True   \n4            psbennett92@gmail.com    662-902-6385     True   \n...                            ...             ...      ...   \n158262  talamas.shilling@gmail.com  (203) 644-9958     True   \n158263  talamas.shilling@gmail.com  (203) 644-9958     True   \n158264  talamas.shilling@gmail.com  (203) 644-9958     True   \n158265  talamas.shilling@gmail.com  (203) 644-9958     True   \n158266  talamas.shilling@gmail.com  (203) 644-9958     True   \n\n                  EventDate EventVenueName  ... BlueCardId  ArtistId    Gross  \\\n0       2019-03-16 00:00:00     Sea Island  ...     800394     13683  15000.0   \n1       2019-03-16 00:00:00     Sea Island  ...     800394     13910  36500.0   \n2       2019-03-16 00:00:00     Sea Island  ...     800394     30359  11500.0   \n3       2019-03-16 00:00:00     Sea Island  ...     800394     32109  10250.0   \n4       2019-03-16 00:00:00     Sea Island  ...     800394     16629  24500.0   \n...                     ...            ...  ...        ...       ...      ...   \n158262  2024-03-02 00:00:00  Alhambra Hall  ...     868542     15554   3750.0   \n158263  2024-03-02 00:00:00  Alhambra Hall  ...     868542       767   4250.0   \n158264  2024-03-02 00:00:00  Alhambra Hall  ...     868542     18856   5500.0   \n158265  2024-03-02 00:00:00  Alhambra Hall  ...     868542    101363   5000.0   \n158266  2024-03-02 00:00:00  Alhambra Hall  ...     868542    101981   4250.0   \n\n        Net    Notes IsDeleted             CreatedDate CreatedById  \\\n0       NaN              False 2018-06-04 13:34:34.207         417   \n1       NaN              False 2018-06-04 13:38:35.527         417   \n2       NaN              False 2018-06-04 13:38:35.527         417   \n3       NaN              False 2018-06-04 13:38:35.527         417   \n4       NaN              False 2018-06-04 13:38:35.540         417   \n...     ...      ...       ...                     ...         ...   \n158262  NaN              False 2024-04-18 18:36:31.767     1000418   \n158263  NaN              False 2024-04-18 18:36:31.767     1000418   \n158264  NaN  go 5750     False 2024-04-18 18:36:31.767     1000418   \n158265  NaN  5250 ok     False 2024-04-18 18:36:31.767     1000418   \n158266  NaN              False 2024-04-18 18:36:31.767     1000418   \n\n                   UpdatedDate  UpdatedById  \n0      2018-06-04 13:37:40.743        417.0  \n1      2018-06-04 15:51:01.637        417.0  \n2      2018-06-04 13:39:55.683        417.0  \n3      2018-06-04 13:39:55.713        417.0  \n4      2018-06-04 15:51:01.667        417.0  \n...                        ...          ...  \n158262                     NaT          NaN  \n158263                     NaT          NaN  \n158264                     NaT          NaN  \n158265                     NaT          NaN  \n158266                     NaT          NaN  \n\n[158267 rows x 82 columns]\n"
        }
      ],
      "execution_count": 3,
      "metadata": {
        "jupyter": {
          "source_hidden": false,
          "outputs_hidden": false
        },
        "nteract": {
          "transient": {
            "deleting": false
          }
        },
        "gather": {
          "logged": 1738257410528
        }
      }
    },
    {
      "cell_type": "code",
      "source": [
        "df.columns"
      ],
      "outputs": [
        {
          "output_type": "execute_result",
          "execution_count": 4,
          "data": {
            "text/plain": "Index(['LeadId', 'AgentId', 'RecommendedAgentId', 'FirstName', 'LastName',\n       'EmailAddress', 'PhoneNumber', 'CanText', 'EventDate', 'EventVenueName',\n       'EventCity', 'EventStateId', 'EventTypeId', 'LeadSourceId', 'ArtistId',\n       'ArtistName', 'Participant1Name', 'Participant2Name',\n       'Participant1TypeId', 'Participant2TypeId', 'EventNotes',\n       'ReferralSource', 'ReferralArtistName', 'ReferralAgentName',\n       'ReferralEventDate', 'ReferralPresenterName', 'ReferralVenueName',\n       'ReferralContact', 'ReferralNotes', 'SubmissionDate', 'IsClosed',\n       'ClosedDate', 'WebData', 'CreatedDate', 'CreatedById', 'UpdatedDate',\n       'UpdatedById', 'ArchiveDate', 'LineOfBusinessId', 'BlueCardId',\n       'AgentId', 'PresenterId', 'AccountName', 'OrganizationName',\n       'EventTypeId', 'LeadId', 'VenueId', 'VenueName',\n       'VenuePhysicalAddress1', 'VenuePhysicalAddress2', 'VenuePhysicalCity',\n       'VenuePhysicalStateId', 'VenuePhysicalZip', 'VenuePhysicalCountryId',\n       'VenueSettingId', 'VenueCapacity', 'IsSettingCovered', 'IsPublicEvent',\n       'EventTime', 'EventBudget', 'Notes', 'IsClosed', 'IsInProgress',\n       'ClosedReasonId', 'ClosedDate', 'CreatedDate', 'CreatedById',\n       'UpdatedDate', 'UpdatedById', 'ArchiveDate', 'CloneBlueCardId',\n       'BlueCardArtistId', 'BlueCardId', 'ArtistId', 'Gross', 'Net', 'Notes',\n       'IsDeleted', 'CreatedDate', 'CreatedById', 'UpdatedDate',\n       'UpdatedById'],\n      dtype='object')"
          },
          "metadata": {}
        }
      ],
      "execution_count": 4,
      "metadata": {
        "jupyter": {
          "source_hidden": false,
          "outputs_hidden": false
        },
        "nteract": {
          "transient": {
            "deleting": false
          }
        },
        "gather": {
          "logged": 1738257411221
        }
      }
    },
    {
      "cell_type": "code",
      "source": [
        "#df = df.drop(['VenuePhysicalStateId', 'VenuePhysicalZip', 'VenuePhysicalCountryId', 'VenueSettingId', 'LeadId', 'AgentId', 'RecommendedAgentId','Participant1TypeId', 'Participant2TypeId', 'LineOfBusinessId', 'BlueCardId', 'PresenterId', 'CreatedById', 'UpdatedById', 'CloneBlueCardId', 'BlueCardArtistId', 'ClosedDate', 'CreatedDate', 'UpdatedDate', 'ArchiveDate', 'Notes', 'ClosedReasonId', 'IsClosed', 'EventTypeId', 'ArtistId', 'FirstName', 'LastName', 'EmailAddress', 'ArtistName', 'Participant1Name', 'Participant2Name', 'EventNotes', 'ReferralSource', 'ReferralArtistName', 'ReferralAgentName', 'ReferralPresenterName', 'ReferralVenueName', 'PhoneNumber', 'ReferralEventDate', 'ReferralContact', 'ReferralNotes', 'WebData', 'AccountName', 'OrganizationName', 'VenueName', 'VenuePhysicalAddress1', 'VenuePhysicalAddress2', 'VenuePhysicalCity'], axis=1)"
      ],
      "outputs": [],
      "execution_count": 5,
      "metadata": {
        "jupyter": {
          "source_hidden": false,
          "outputs_hidden": false
        },
        "nteract": {
          "transient": {
            "deleting": false
          }
        },
        "gather": {
          "logged": 1738257412467
        }
      }
    },
    {
      "cell_type": "code",
      "source": [
        "df.head()"
      ],
      "outputs": [
        {
          "output_type": "execute_result",
          "execution_count": 6,
          "data": {
            "text/plain": "   LeadId  AgentId  RecommendedAgentId FirstName LastName  \\\n0       6    417.0                 NaN   Presley  Bennett   \n1       6    417.0                 NaN   Presley  Bennett   \n2       6    417.0                 NaN   Presley  Bennett   \n3       6    417.0                 NaN   Presley  Bennett   \n4       6    417.0                 NaN   Presley  Bennett   \n\n            EmailAddress   PhoneNumber  CanText            EventDate  \\\n0  psbennett92@gmail.com  662-902-6385     True  2019-03-16 00:00:00   \n1  psbennett92@gmail.com  662-902-6385     True  2019-03-16 00:00:00   \n2  psbennett92@gmail.com  662-902-6385     True  2019-03-16 00:00:00   \n3  psbennett92@gmail.com  662-902-6385     True  2019-03-16 00:00:00   \n4  psbennett92@gmail.com  662-902-6385     True  2019-03-16 00:00:00   \n\n  EventVenueName  ... BlueCardId  ArtistId    Gross  Net  Notes IsDeleted  \\\n0     Sea Island  ...     800394     13683  15000.0  NaN            False   \n1     Sea Island  ...     800394     13910  36500.0  NaN            False   \n2     Sea Island  ...     800394     30359  11500.0  NaN            False   \n3     Sea Island  ...     800394     32109  10250.0  NaN            False   \n4     Sea Island  ...     800394     16629  24500.0  NaN            False   \n\n              CreatedDate CreatedById             UpdatedDate  UpdatedById  \n0 2018-06-04 13:34:34.207         417 2018-06-04 13:37:40.743        417.0  \n1 2018-06-04 13:38:35.527         417 2018-06-04 15:51:01.637        417.0  \n2 2018-06-04 13:38:35.527         417 2018-06-04 13:39:55.683        417.0  \n3 2018-06-04 13:38:35.527         417 2018-06-04 13:39:55.713        417.0  \n4 2018-06-04 13:38:35.540         417 2018-06-04 15:51:01.667        417.0  \n\n[5 rows x 82 columns]",
            "text/html": "<div>\n<style scoped>\n    .dataframe tbody tr th:only-of-type {\n        vertical-align: middle;\n    }\n\n    .dataframe tbody tr th {\n        vertical-align: top;\n    }\n\n    .dataframe thead th {\n        text-align: right;\n    }\n</style>\n<table border=\"1\" class=\"dataframe\">\n  <thead>\n    <tr style=\"text-align: right;\">\n      <th></th>\n      <th>LeadId</th>\n      <th>AgentId</th>\n      <th>RecommendedAgentId</th>\n      <th>FirstName</th>\n      <th>LastName</th>\n      <th>EmailAddress</th>\n      <th>PhoneNumber</th>\n      <th>CanText</th>\n      <th>EventDate</th>\n      <th>EventVenueName</th>\n      <th>...</th>\n      <th>BlueCardId</th>\n      <th>ArtistId</th>\n      <th>Gross</th>\n      <th>Net</th>\n      <th>Notes</th>\n      <th>IsDeleted</th>\n      <th>CreatedDate</th>\n      <th>CreatedById</th>\n      <th>UpdatedDate</th>\n      <th>UpdatedById</th>\n    </tr>\n  </thead>\n  <tbody>\n    <tr>\n      <th>0</th>\n      <td>6</td>\n      <td>417.0</td>\n      <td>NaN</td>\n      <td>Presley</td>\n      <td>Bennett</td>\n      <td>psbennett92@gmail.com</td>\n      <td>662-902-6385</td>\n      <td>True</td>\n      <td>2019-03-16 00:00:00</td>\n      <td>Sea Island</td>\n      <td>...</td>\n      <td>800394</td>\n      <td>13683</td>\n      <td>15000.0</td>\n      <td>NaN</td>\n      <td></td>\n      <td>False</td>\n      <td>2018-06-04 13:34:34.207</td>\n      <td>417</td>\n      <td>2018-06-04 13:37:40.743</td>\n      <td>417.0</td>\n    </tr>\n    <tr>\n      <th>1</th>\n      <td>6</td>\n      <td>417.0</td>\n      <td>NaN</td>\n      <td>Presley</td>\n      <td>Bennett</td>\n      <td>psbennett92@gmail.com</td>\n      <td>662-902-6385</td>\n      <td>True</td>\n      <td>2019-03-16 00:00:00</td>\n      <td>Sea Island</td>\n      <td>...</td>\n      <td>800394</td>\n      <td>13910</td>\n      <td>36500.0</td>\n      <td>NaN</td>\n      <td></td>\n      <td>False</td>\n      <td>2018-06-04 13:38:35.527</td>\n      <td>417</td>\n      <td>2018-06-04 15:51:01.637</td>\n      <td>417.0</td>\n    </tr>\n    <tr>\n      <th>2</th>\n      <td>6</td>\n      <td>417.0</td>\n      <td>NaN</td>\n      <td>Presley</td>\n      <td>Bennett</td>\n      <td>psbennett92@gmail.com</td>\n      <td>662-902-6385</td>\n      <td>True</td>\n      <td>2019-03-16 00:00:00</td>\n      <td>Sea Island</td>\n      <td>...</td>\n      <td>800394</td>\n      <td>30359</td>\n      <td>11500.0</td>\n      <td>NaN</td>\n      <td></td>\n      <td>False</td>\n      <td>2018-06-04 13:38:35.527</td>\n      <td>417</td>\n      <td>2018-06-04 13:39:55.683</td>\n      <td>417.0</td>\n    </tr>\n    <tr>\n      <th>3</th>\n      <td>6</td>\n      <td>417.0</td>\n      <td>NaN</td>\n      <td>Presley</td>\n      <td>Bennett</td>\n      <td>psbennett92@gmail.com</td>\n      <td>662-902-6385</td>\n      <td>True</td>\n      <td>2019-03-16 00:00:00</td>\n      <td>Sea Island</td>\n      <td>...</td>\n      <td>800394</td>\n      <td>32109</td>\n      <td>10250.0</td>\n      <td>NaN</td>\n      <td></td>\n      <td>False</td>\n      <td>2018-06-04 13:38:35.527</td>\n      <td>417</td>\n      <td>2018-06-04 13:39:55.713</td>\n      <td>417.0</td>\n    </tr>\n    <tr>\n      <th>4</th>\n      <td>6</td>\n      <td>417.0</td>\n      <td>NaN</td>\n      <td>Presley</td>\n      <td>Bennett</td>\n      <td>psbennett92@gmail.com</td>\n      <td>662-902-6385</td>\n      <td>True</td>\n      <td>2019-03-16 00:00:00</td>\n      <td>Sea Island</td>\n      <td>...</td>\n      <td>800394</td>\n      <td>16629</td>\n      <td>24500.0</td>\n      <td>NaN</td>\n      <td></td>\n      <td>False</td>\n      <td>2018-06-04 13:38:35.540</td>\n      <td>417</td>\n      <td>2018-06-04 15:51:01.667</td>\n      <td>417.0</td>\n    </tr>\n  </tbody>\n</table>\n<p>5 rows × 82 columns</p>\n</div>"
          },
          "metadata": {}
        }
      ],
      "execution_count": 6,
      "metadata": {
        "jupyter": {
          "source_hidden": false,
          "outputs_hidden": false
        },
        "nteract": {
          "transient": {
            "deleting": false
          }
        },
        "gather": {
          "logged": 1738257412877
        }
      }
    },
    {
      "cell_type": "code",
      "source": [
        "df.dtypes.value_counts()"
      ],
      "outputs": [
        {
          "output_type": "execute_result",
          "execution_count": 7,
          "data": {
            "text/plain": "object            36\nfloat64           19\nint64             13\ndatetime64[ns]     9\nbool               5\nName: count, dtype: int64"
          },
          "metadata": {}
        }
      ],
      "execution_count": 7,
      "metadata": {
        "jupyter": {
          "source_hidden": false,
          "outputs_hidden": false
        },
        "nteract": {
          "transient": {
            "deleting": false
          }
        },
        "gather": {
          "logged": 1738257414101
        }
      }
    },
    {
      "cell_type": "code",
      "source": [
        "#Remove duplicate columns\n",
        "df = df.loc[:, ~df.columns.duplicated()]"
      ],
      "outputs": [],
      "execution_count": 8,
      "metadata": {
        "jupyter": {
          "source_hidden": false,
          "outputs_hidden": false
        },
        "nteract": {
          "transient": {
            "deleting": false
          }
        },
        "gather": {
          "logged": 1738257414536
        }
      }
    },
    {
      "cell_type": "code",
      "source": [
        "df.dtypes.value_counts()"
      ],
      "outputs": [
        {
          "output_type": "execute_result",
          "execution_count": 9,
          "data": {
            "text/plain": "object            34\nfloat64           16\nint64              7\nbool               4\ndatetime64[ns]     4\nName: count, dtype: int64"
          },
          "metadata": {}
        }
      ],
      "execution_count": 9,
      "metadata": {
        "jupyter": {
          "source_hidden": false,
          "outputs_hidden": false
        },
        "nteract": {
          "transient": {
            "deleting": false
          }
        },
        "gather": {
          "logged": 1738257415131
        }
      }
    },
    {
      "cell_type": "code",
      "source": [
        "#Boolean columns\n",
        "label_encoder = LabelEncoder()\n",
        "df['CanText'] = label_encoder.fit_transform(df['CanText'])\n",
        "df['IsSettingCovered'] = label_encoder.fit_transform(df['IsSettingCovered'])\n",
        "df['IsPublicEvent'] = label_encoder.fit_transform(df['IsPublicEvent'])\n",
        "df['IsInProgress'] = label_encoder.fit_transform(df['IsInProgress'])\n",
        "df['IsDeleted'] = label_encoder.fit_transform(df['IsDeleted'])\n",
        "df['IsClosed'] = label_encoder.fit_transform(df['IsClosed'])"
      ],
      "outputs": [],
      "execution_count": 10,
      "metadata": {
        "jupyter": {
          "source_hidden": false,
          "outputs_hidden": false
        },
        "nteract": {
          "transient": {
            "deleting": false
          }
        },
        "gather": {
          "logged": 1738257416109
        }
      }
    },
    {
      "cell_type": "code",
      "source": [
        "df.dtypes.value_counts()"
      ],
      "outputs": [
        {
          "output_type": "execute_result",
          "execution_count": 11,
          "data": {
            "text/plain": "object            32\nfloat64           16\nint64             13\ndatetime64[ns]     4\nName: count, dtype: int64"
          },
          "metadata": {}
        }
      ],
      "execution_count": 11,
      "metadata": {
        "jupyter": {
          "source_hidden": false,
          "outputs_hidden": false
        },
        "nteract": {
          "transient": {
            "deleting": false
          }
        },
        "gather": {
          "logged": 1738257416515
        }
      }
    },
    {
      "cell_type": "code",
      "source": [
        "# Select object type columns\n",
        "object_columns = df.select_dtypes(include='object')\n",
        "\n",
        "print(object_columns.columns)"
      ],
      "outputs": [
        {
          "output_type": "stream",
          "name": "stdout",
          "text": "Index(['FirstName', 'LastName', 'EmailAddress', 'PhoneNumber', 'EventDate',\n       'EventVenueName', 'EventCity', 'ArtistName', 'Participant1Name',\n       'Participant2Name', 'EventNotes', 'ReferralSource',\n       'ReferralArtistName', 'ReferralAgentName', 'ReferralEventDate',\n       'ReferralPresenterName', 'ReferralVenueName', 'ReferralContact',\n       'ReferralNotes', 'WebData', 'ArchiveDate', 'AccountName',\n       'OrganizationName', 'VenueName', 'VenuePhysicalAddress1',\n       'VenuePhysicalAddress2', 'VenuePhysicalCity', 'VenuePhysicalZip',\n       'EventTime', 'EventBudget', 'Notes', 'CloneBlueCardId'],\n      dtype='object')\n"
        }
      ],
      "execution_count": 12,
      "metadata": {
        "jupyter": {
          "source_hidden": false,
          "outputs_hidden": false
        },
        "nteract": {
          "transient": {
            "deleting": false
          }
        },
        "gather": {
          "logged": 1738257417730
        }
      }
    },
    {
      "cell_type": "code",
      "source": [
        "# Select datetime type columns\n",
        "datetime_columns = df.select_dtypes(include='datetime64[ns]')\n",
        "\n",
        "print(datetime_columns.columns)"
      ],
      "outputs": [
        {
          "output_type": "stream",
          "name": "stdout",
          "text": "Index(['SubmissionDate', 'ClosedDate', 'CreatedDate', 'UpdatedDate'], dtype='object')\n"
        }
      ],
      "execution_count": 13,
      "metadata": {
        "jupyter": {
          "source_hidden": false,
          "outputs_hidden": false
        },
        "nteract": {
          "transient": {
            "deleting": false
          }
        },
        "gather": {
          "logged": 1738257418082
        }
      }
    },
    {
      "cell_type": "code",
      "source": [
        "#Since EventDate is the only datetime column needed, dropping the remaining datetime columns\n",
        "df = df.drop(datetime_columns, axis = 1)"
      ],
      "outputs": [],
      "execution_count": 14,
      "metadata": {
        "jupyter": {
          "source_hidden": false,
          "outputs_hidden": false
        },
        "nteract": {
          "transient": {
            "deleting": false
          }
        },
        "gather": {
          "logged": 1738257419222
        }
      }
    },
    {
      "cell_type": "code",
      "source": [
        "#Removing customer specific and other date columns\n",
        "df = df.drop(['FirstName', 'LastName', 'EmailAddress', 'PhoneNumber', 'ArchiveDate', 'EventTime'], axis = 1)"
      ],
      "outputs": [],
      "execution_count": 15,
      "metadata": {
        "jupyter": {
          "source_hidden": false,
          "outputs_hidden": false
        },
        "nteract": {
          "transient": {
            "deleting": false
          }
        },
        "gather": {
          "logged": 1738257419670
        }
      }
    },
    {
      "cell_type": "code",
      "source": [
        "df.dtypes"
      ],
      "outputs": [
        {
          "output_type": "execute_result",
          "execution_count": 16,
          "data": {
            "text/plain": "LeadId                      int64\nAgentId                   float64\nRecommendedAgentId        float64\nCanText                     int64\nEventDate                  object\nEventVenueName             object\nEventCity                  object\nEventStateId              float64\nEventTypeId                 int64\nLeadSourceId                int64\nArtistId                  float64\nArtistName                 object\nParticipant1Name           object\nParticipant2Name           object\nParticipant1TypeId        float64\nParticipant2TypeId        float64\nEventNotes                 object\nReferralSource             object\nReferralArtistName         object\nReferralAgentName          object\nReferralEventDate          object\nReferralPresenterName      object\nReferralVenueName          object\nReferralContact            object\nReferralNotes              object\nIsClosed                    int64\nWebData                    object\nCreatedById                 int64\nUpdatedById                 int64\nLineOfBusinessId          float64\nBlueCardId                  int64\nPresenterId               float64\nAccountName                object\nOrganizationName           object\nVenueId                   float64\nVenueName                  object\nVenuePhysicalAddress1      object\nVenuePhysicalAddress2      object\nVenuePhysicalCity          object\nVenuePhysicalStateId      float64\nVenuePhysicalZip           object\nVenuePhysicalCountryId    float64\nVenueSettingId            float64\nVenueCapacity             float64\nIsSettingCovered            int64\nIsPublicEvent               int64\nEventBudget                object\nNotes                      object\nIsInProgress                int64\nClosedReasonId            float64\nCloneBlueCardId            object\nBlueCardArtistId            int64\nGross                     float64\nNet                       float64\nIsDeleted                   int64\ndtype: object"
          },
          "metadata": {}
        }
      ],
      "execution_count": 16,
      "metadata": {
        "jupyter": {
          "source_hidden": false,
          "outputs_hidden": false
        },
        "nteract": {
          "transient": {
            "deleting": false
          }
        },
        "gather": {
          "logged": 1738257420120
        }
      }
    },
    {
      "cell_type": "code",
      "source": [
        "for col in df.columns:\n",
        "    print(df[col].isna().value_counts())"
      ],
      "outputs": [
        {
          "output_type": "stream",
          "name": "stdout",
          "text": "LeadId\nFalse    158267\nName: count, dtype: int64\nAgentId\nFalse    158264\nTrue          3\nName: count, dtype: int64\nRecommendedAgentId\nTrue     157168\nFalse      1099\nName: count, dtype: int64\nCanText\nFalse    158267\nName: count, dtype: int64\nEventDate\nFalse    156517\nTrue       1750\nName: count, dtype: int64\nEventVenueName\nFalse    158267\nName: count, dtype: int64\nEventCity\nFalse    158267\nName: count, dtype: int64\nEventStateId\nFalse    122739\nTrue      35528\nName: count, dtype: int64\nEventTypeId\nFalse    158267\nName: count, dtype: int64\nLeadSourceId\nFalse    158267\nName: count, dtype: int64\nArtistId\nTrue     96118\nFalse    62149\nName: count, dtype: int64\nArtistName\nFalse    158267\nName: count, dtype: int64\nParticipant1Name\nFalse    158267\nName: count, dtype: int64\nParticipant2Name\nFalse    158267\nName: count, dtype: int64\nParticipant1TypeId\nFalse    105949\nTrue      52318\nName: count, dtype: int64\nParticipant2TypeId\nFalse    104214\nTrue      54053\nName: count, dtype: int64\nEventNotes\nFalse    158267\nName: count, dtype: int64\nReferralSource\nFalse    158267\nName: count, dtype: int64\nReferralArtistName\nFalse    158267\nName: count, dtype: int64\nReferralAgentName\nFalse    158267\nName: count, dtype: int64\nReferralEventDate\nFalse    158267\nName: count, dtype: int64\nReferralPresenterName\nFalse    158267\nName: count, dtype: int64\nReferralVenueName\nFalse    158267\nName: count, dtype: int64\nReferralContact\nFalse    158267\nName: count, dtype: int64\nReferralNotes\nFalse    158267\nName: count, dtype: int64\nIsClosed\nFalse    158267\nName: count, dtype: int64\nWebData\nFalse    158267\nName: count, dtype: int64\nCreatedById\nFalse    158267\nName: count, dtype: int64\nUpdatedById\nFalse    158267\nName: count, dtype: int64\nLineOfBusinessId\nTrue     158265\nFalse         2\nName: count, dtype: int64\nBlueCardId\nFalse    158267\nName: count, dtype: int64\nPresenterId\nTrue     98758\nFalse    59509\nName: count, dtype: int64\nAccountName\nFalse    158267\nName: count, dtype: int64\nOrganizationName\nFalse    158267\nName: count, dtype: int64\nVenueId\nTrue     116753\nFalse     41514\nName: count, dtype: int64\nVenueName\nFalse    158267\nName: count, dtype: int64\nVenuePhysicalAddress1\nFalse    158144\nTrue        123\nName: count, dtype: int64\nVenuePhysicalAddress2\nFalse    158144\nTrue        123\nName: count, dtype: int64\nVenuePhysicalCity\nFalse    158267\nName: count, dtype: int64\nVenuePhysicalStateId\nFalse    158251\nTrue         16\nName: count, dtype: int64\nVenuePhysicalZip\nFalse    158144\nTrue        123\nName: count, dtype: int64\nVenuePhysicalCountryId\nFalse    157430\nTrue        837\nName: count, dtype: int64\nVenueSettingId\nTrue     96078\nFalse    62189\nName: count, dtype: int64\nVenueCapacity\nTrue     152646\nFalse      5621\nName: count, dtype: int64\nIsSettingCovered\nFalse    158267\nName: count, dtype: int64\nIsPublicEvent\nFalse    158267\nName: count, dtype: int64\nEventBudget\nFalse    158144\nTrue        123\nName: count, dtype: int64\nNotes\nFalse    158144\nTrue        123\nName: count, dtype: int64\nIsInProgress\nFalse    158267\nName: count, dtype: int64\nClosedReasonId\nFalse    149924\nTrue       8343\nName: count, dtype: int64\nCloneBlueCardId\nTrue    158267\nName: count, dtype: int64\nBlueCardArtistId\nFalse    158267\nName: count, dtype: int64\nGross\nFalse    153380\nTrue       4887\nName: count, dtype: int64\nNet\nTrue     155866\nFalse      2401\nName: count, dtype: int64\nIsDeleted\nFalse    158267\nName: count, dtype: int64\n"
        }
      ],
      "execution_count": 17,
      "metadata": {
        "jupyter": {
          "source_hidden": false,
          "outputs_hidden": false
        },
        "nteract": {
          "transient": {
            "deleting": false
          }
        },
        "gather": {
          "logged": 1738257421300
        }
      }
    },
    {
      "cell_type": "code",
      "source": [
        "avg_gross = df['Gross'].sum()/len(df)\n",
        "print(avg_gross)\n",
        "df['Gross'].fillna(avg_gross, inplace=True)\n",
        "df['Gross'].isna().value_counts()"
      ],
      "outputs": [
        {
          "output_type": "stream",
          "name": "stdout",
          "text": "7816.534792470951\n"
        },
        {
          "output_type": "execute_result",
          "execution_count": 18,
          "data": {
            "text/plain": "Gross\nFalse    158267\nName: count, dtype: int64"
          },
          "metadata": {}
        }
      ],
      "execution_count": 18,
      "metadata": {
        "jupyter": {
          "source_hidden": false,
          "outputs_hidden": false
        },
        "nteract": {
          "transient": {
            "deleting": false
          }
        },
        "gather": {
          "logged": 1738257422434
        }
      }
    },
    {
      "cell_type": "code",
      "source": [
        "df['IsPublicEvent'].fillna(False, inplace=True)\n",
        "df['IsPublicEvent'].isna().value_counts()"
      ],
      "outputs": [
        {
          "output_type": "execute_result",
          "execution_count": 19,
          "data": {
            "text/plain": "IsPublicEvent\nFalse    158267\nName: count, dtype: int64"
          },
          "metadata": {}
        }
      ],
      "execution_count": 19,
      "metadata": {
        "jupyter": {
          "source_hidden": false,
          "outputs_hidden": false
        },
        "nteract": {
          "transient": {
            "deleting": false
          }
        },
        "gather": {
          "logged": 1738257422803
        }
      }
    },
    {
      "cell_type": "code",
      "source": [
        "avg_venue_capacity = df['VenueCapacity'].sum()/len(df)\n",
        "print(avg_venue_capacity)\n",
        "df['VenueCapacity'].fillna(avg_venue_capacity, inplace=True)\n",
        "df['VenueCapacity'].isna().value_counts()"
      ],
      "outputs": [
        {
          "output_type": "stream",
          "name": "stdout",
          "text": "11.864918144654286\n"
        },
        {
          "output_type": "execute_result",
          "execution_count": 20,
          "data": {
            "text/plain": "VenueCapacity\nFalse    158267\nName: count, dtype: int64"
          },
          "metadata": {}
        }
      ],
      "execution_count": 20,
      "metadata": {
        "jupyter": {
          "source_hidden": false,
          "outputs_hidden": false
        },
        "nteract": {
          "transient": {
            "deleting": false
          }
        },
        "gather": {
          "logged": 1738257423960
        }
      }
    },
    {
      "cell_type": "code",
      "source": [
        "df['IsSettingCovered'].fillna(False, inplace=True)\n",
        "df['IsSettingCovered'].isna().value_counts()"
      ],
      "outputs": [
        {
          "output_type": "execute_result",
          "execution_count": 21,
          "data": {
            "text/plain": "IsSettingCovered\nFalse    158267\nName: count, dtype: int64"
          },
          "metadata": {}
        }
      ],
      "execution_count": 21,
      "metadata": {
        "jupyter": {
          "source_hidden": false,
          "outputs_hidden": false
        },
        "nteract": {
          "transient": {
            "deleting": false
          }
        },
        "gather": {
          "logged": 1738257424315
        }
      }
    },
    {
      "cell_type": "code",
      "source": [
        "df.columns"
      ],
      "outputs": [
        {
          "output_type": "execute_result",
          "execution_count": 22,
          "data": {
            "text/plain": "Index(['LeadId', 'AgentId', 'RecommendedAgentId', 'CanText', 'EventDate',\n       'EventVenueName', 'EventCity', 'EventStateId', 'EventTypeId',\n       'LeadSourceId', 'ArtistId', 'ArtistName', 'Participant1Name',\n       'Participant2Name', 'Participant1TypeId', 'Participant2TypeId',\n       'EventNotes', 'ReferralSource', 'ReferralArtistName',\n       'ReferralAgentName', 'ReferralEventDate', 'ReferralPresenterName',\n       'ReferralVenueName', 'ReferralContact', 'ReferralNotes', 'IsClosed',\n       'WebData', 'CreatedById', 'UpdatedById', 'LineOfBusinessId',\n       'BlueCardId', 'PresenterId', 'AccountName', 'OrganizationName',\n       'VenueId', 'VenueName', 'VenuePhysicalAddress1',\n       'VenuePhysicalAddress2', 'VenuePhysicalCity', 'VenuePhysicalStateId',\n       'VenuePhysicalZip', 'VenuePhysicalCountryId', 'VenueSettingId',\n       'VenueCapacity', 'IsSettingCovered', 'IsPublicEvent', 'EventBudget',\n       'Notes', 'IsInProgress', 'ClosedReasonId', 'CloneBlueCardId',\n       'BlueCardArtistId', 'Gross', 'Net', 'IsDeleted'],\n      dtype='object')"
          },
          "metadata": {}
        }
      ],
      "execution_count": 22,
      "metadata": {
        "jupyter": {
          "source_hidden": false,
          "outputs_hidden": false
        },
        "nteract": {
          "transient": {
            "deleting": false
          }
        },
        "gather": {
          "logged": 1738257424743
        }
      }
    },
    {
      "cell_type": "code",
      "source": [
        "df.dtypes"
      ],
      "outputs": [
        {
          "output_type": "execute_result",
          "execution_count": 23,
          "data": {
            "text/plain": "LeadId                      int64\nAgentId                   float64\nRecommendedAgentId        float64\nCanText                     int64\nEventDate                  object\nEventVenueName             object\nEventCity                  object\nEventStateId              float64\nEventTypeId                 int64\nLeadSourceId                int64\nArtistId                  float64\nArtistName                 object\nParticipant1Name           object\nParticipant2Name           object\nParticipant1TypeId        float64\nParticipant2TypeId        float64\nEventNotes                 object\nReferralSource             object\nReferralArtistName         object\nReferralAgentName          object\nReferralEventDate          object\nReferralPresenterName      object\nReferralVenueName          object\nReferralContact            object\nReferralNotes              object\nIsClosed                    int64\nWebData                    object\nCreatedById                 int64\nUpdatedById                 int64\nLineOfBusinessId          float64\nBlueCardId                  int64\nPresenterId               float64\nAccountName                object\nOrganizationName           object\nVenueId                   float64\nVenueName                  object\nVenuePhysicalAddress1      object\nVenuePhysicalAddress2      object\nVenuePhysicalCity          object\nVenuePhysicalStateId      float64\nVenuePhysicalZip           object\nVenuePhysicalCountryId    float64\nVenueSettingId            float64\nVenueCapacity             float64\nIsSettingCovered            int64\nIsPublicEvent               int64\nEventBudget                object\nNotes                      object\nIsInProgress                int64\nClosedReasonId            float64\nCloneBlueCardId            object\nBlueCardArtistId            int64\nGross                     float64\nNet                       float64\nIsDeleted                   int64\ndtype: object"
          },
          "metadata": {}
        }
      ],
      "execution_count": 23,
      "metadata": {
        "jupyter": {
          "source_hidden": false,
          "outputs_hidden": false
        },
        "nteract": {
          "transient": {
            "deleting": false
          }
        },
        "gather": {
          "logged": 1738257425806
        }
      }
    },
    {
      "cell_type": "code",
      "source": [
        "df['EventBudget'].value_counts()"
      ],
      "outputs": [
        {
          "output_type": "execute_result",
          "execution_count": 24,
          "data": {
            "text/plain": "EventBudget\n            138128\n5000          2177\n10000         1120\n4000           895\n6000           869\n             ...  \n1,000.00         1\nflexible         1\n25-30K           1\n$6000            1\n15,000           1\nName: count, Length: 572, dtype: int64"
          },
          "metadata": {}
        }
      ],
      "execution_count": 24,
      "metadata": {
        "jupyter": {
          "source_hidden": false,
          "outputs_hidden": false
        },
        "nteract": {
          "transient": {
            "deleting": false
          }
        },
        "gather": {
          "logged": 1738257426274
        }
      }
    },
    {
      "cell_type": "code",
      "source": [
        "df['Net'].value_counts()"
      ],
      "outputs": [
        {
          "output_type": "execute_result",
          "execution_count": 25,
          "data": {
            "text/plain": "Net\n2000.0     104\n4000.0      93\n1000.0      93\n5000.0      82\n1500.0      81\n          ... \n4598.0       1\n1550.0       1\n18750.0      1\n825.0        1\n730.0        1\nName: count, Length: 282, dtype: int64"
          },
          "metadata": {}
        }
      ],
      "execution_count": 25,
      "metadata": {
        "jupyter": {
          "source_hidden": false,
          "outputs_hidden": false
        },
        "nteract": {
          "transient": {
            "deleting": false
          }
        },
        "gather": {
          "logged": 1738257427415
        }
      }
    },
    {
      "cell_type": "code",
      "source": [
        "df = df[df['EventBudget']!= 'flexible']\n",
        "df['EventBudget'] = df['EventBudget'].fillna('').astype(str)\n",
        "pattern = r'[-?$]'\n",
        "df = df[~df['EventBudget'].str.contains(pattern, regex=True)].reset_index(drop=True)\n",
        "# Apply the function to filter rows with valid budgets\n",
        "df['EventBudget'] = df['EventBudget'].str.extract(r'(\\d+(?:\\.\\d+)?(?:k)?)')  # Extract numeric and 'k'\n",
        "df['EventBudget'] = df['EventBudget'].str.replace('k', '000', regex=False).astype(float, errors='ignore')"
      ],
      "outputs": [],
      "execution_count": 26,
      "metadata": {
        "jupyter": {
          "source_hidden": false,
          "outputs_hidden": false
        },
        "nteract": {
          "transient": {
            "deleting": false
          }
        },
        "gather": {
          "logged": 1738257427848
        }
      }
    },
    {
      "cell_type": "code",
      "source": [
        "df['EventBudget'].value_counts()"
      ],
      "outputs": [
        {
          "output_type": "execute_result",
          "execution_count": 27,
          "data": {
            "text/plain": "EventBudget\n5000.0     2573\n10000.0    1531\n4000.0     1044\n6000.0     1012\n3000.0      850\n           ... \n1700.0        2\n800.0         2\n0.0           1\n1100.0        1\n9250.0        1\nName: count, Length: 68, dtype: int64"
          },
          "metadata": {}
        }
      ],
      "execution_count": 27,
      "metadata": {
        "jupyter": {
          "source_hidden": false,
          "outputs_hidden": false
        },
        "nteract": {
          "transient": {
            "deleting": false
          }
        },
        "gather": {
          "logged": 1738257429003
        }
      }
    },
    {
      "cell_type": "code",
      "source": [
        "df['VenueCapacity'].value_counts()"
      ],
      "outputs": [
        {
          "output_type": "execute_result",
          "execution_count": 28,
          "data": {
            "text/plain": "VenueCapacity\n11.864918      145619\n300.000000       1256\n250.000000       1051\n400.000000        548\n200.000000        362\n                ...  \n929.000000          1\n3500.000000         1\n474.000000          1\n540.000000          1\n88.000000           1\nName: count, Length: 72, dtype: int64"
          },
          "metadata": {}
        }
      ],
      "execution_count": 28,
      "metadata": {
        "jupyter": {
          "source_hidden": false,
          "outputs_hidden": false
        },
        "nteract": {
          "transient": {
            "deleting": false
          }
        },
        "gather": {
          "logged": 1738257429418
        }
      }
    },
    {
      "cell_type": "code",
      "source": [
        "numeric_columns = ['EventBudget', 'Gross', 'Net', 'VenueCapacity']\n",
        "for col in df.columns:\n",
        "    if col not in numeric_columns:\n",
        "        df[col] = label_encoder.fit_transform(df[col])"
      ],
      "outputs": [],
      "execution_count": 29,
      "metadata": {
        "jupyter": {
          "source_hidden": false,
          "outputs_hidden": false
        },
        "nteract": {
          "transient": {
            "deleting": false
          }
        },
        "gather": {
          "logged": 1738257430248
        }
      }
    },
    {
      "cell_type": "code",
      "source": [
        "df.dtypes"
      ],
      "outputs": [
        {
          "output_type": "execute_result",
          "execution_count": 30,
          "data": {
            "text/plain": "LeadId                      int64\nAgentId                     int64\nRecommendedAgentId          int64\nCanText                     int64\nEventDate                   int64\nEventVenueName              int64\nEventCity                   int64\nEventStateId                int64\nEventTypeId                 int64\nLeadSourceId                int64\nArtistId                    int64\nArtistName                  int64\nParticipant1Name            int64\nParticipant2Name            int64\nParticipant1TypeId          int64\nParticipant2TypeId          int64\nEventNotes                  int64\nReferralSource              int64\nReferralArtistName          int64\nReferralAgentName           int64\nReferralEventDate           int64\nReferralPresenterName       int64\nReferralVenueName           int64\nReferralContact             int64\nReferralNotes               int64\nIsClosed                    int64\nWebData                     int64\nCreatedById                 int64\nUpdatedById                 int64\nLineOfBusinessId            int64\nBlueCardId                  int64\nPresenterId                 int64\nAccountName                 int64\nOrganizationName            int64\nVenueId                     int64\nVenueName                   int64\nVenuePhysicalAddress1       int64\nVenuePhysicalAddress2       int64\nVenuePhysicalCity           int64\nVenuePhysicalStateId        int64\nVenuePhysicalZip            int64\nVenuePhysicalCountryId      int64\nVenueSettingId              int64\nVenueCapacity             float64\nIsSettingCovered            int64\nIsPublicEvent               int64\nEventBudget               float64\nNotes                       int64\nIsInProgress                int64\nClosedReasonId              int64\nCloneBlueCardId             int64\nBlueCardArtistId            int64\nGross                     float64\nNet                       float64\nIsDeleted                   int64\ndtype: object"
          },
          "metadata": {}
        }
      ],
      "execution_count": 30,
      "metadata": {
        "jupyter": {
          "source_hidden": false,
          "outputs_hidden": false
        },
        "nteract": {
          "transient": {
            "deleting": false
          }
        },
        "gather": {
          "logged": 1738257430803
        }
      }
    },
    {
      "cell_type": "code",
      "source": [
        "print(df.isnull().sum())"
      ],
      "outputs": [
        {
          "output_type": "stream",
          "name": "stdout",
          "text": "LeadId                         0\nAgentId                        0\nRecommendedAgentId             0\nCanText                        0\nEventDate                      0\nEventVenueName                 0\nEventCity                      0\nEventStateId                   0\nEventTypeId                    0\nLeadSourceId                   0\nArtistId                       0\nArtistName                     0\nParticipant1Name               0\nParticipant2Name               0\nParticipant1TypeId             0\nParticipant2TypeId             0\nEventNotes                     0\nReferralSource                 0\nReferralArtistName             0\nReferralAgentName              0\nReferralEventDate              0\nReferralPresenterName          0\nReferralVenueName              0\nReferralContact                0\nReferralNotes                  0\nIsClosed                       0\nWebData                        0\nCreatedById                    0\nUpdatedById                    0\nLineOfBusinessId               0\nBlueCardId                     0\nPresenterId                    0\nAccountName                    0\nOrganizationName               0\nVenueId                        0\nVenueName                      0\nVenuePhysicalAddress1          0\nVenuePhysicalAddress2          0\nVenuePhysicalCity              0\nVenuePhysicalStateId           0\nVenuePhysicalZip               0\nVenuePhysicalCountryId         0\nVenueSettingId                 0\nVenueCapacity                  0\nIsSettingCovered               0\nIsPublicEvent                  0\nEventBudget               138354\nNotes                          0\nIsInProgress                   0\nClosedReasonId                 0\nCloneBlueCardId                0\nBlueCardArtistId               0\nGross                          0\nNet                       148596\nIsDeleted                      0\ndtype: int64\n"
        }
      ],
      "execution_count": 31,
      "metadata": {
        "jupyter": {
          "source_hidden": false,
          "outputs_hidden": false
        },
        "nteract": {
          "transient": {
            "deleting": false
          }
        },
        "gather": {
          "logged": 1738257431150
        }
      }
    },
    {
      "cell_type": "code",
      "source": [
        "avg_budget = df['EventBudget'].sum()/len(df)\n",
        "print(avg_budget)\n",
        "df['EventBudget'].fillna(avg_budget, inplace=True)\n",
        "df['EventBudget'].isna().value_counts()"
      ],
      "outputs": [
        {
          "output_type": "stream",
          "name": "stdout",
          "text": "478.36499811019235\n"
        },
        {
          "output_type": "execute_result",
          "execution_count": 32,
          "data": {
            "text/plain": "EventBudget\nFalse    150809\nName: count, dtype: int64"
          },
          "metadata": {}
        }
      ],
      "execution_count": 32,
      "metadata": {
        "jupyter": {
          "source_hidden": false,
          "outputs_hidden": false
        },
        "nteract": {
          "transient": {
            "deleting": false
          }
        },
        "gather": {
          "logged": 1738257432177
        }
      }
    },
    {
      "cell_type": "code",
      "source": [
        "avg_net = df['Net'].sum()/len(df)\n",
        "print(avg_net)\n",
        "df['Net'].fillna(avg_net, inplace=True)\n",
        "df['Net'].isna().value_counts()"
      ],
      "outputs": [
        {
          "output_type": "stream",
          "name": "stdout",
          "text": "61.88668448169539\n"
        },
        {
          "output_type": "execute_result",
          "execution_count": 33,
          "data": {
            "text/plain": "Net\nFalse    150809\nName: count, dtype: int64"
          },
          "metadata": {}
        }
      ],
      "execution_count": 33,
      "metadata": {
        "jupyter": {
          "source_hidden": false,
          "outputs_hidden": false
        },
        "nteract": {
          "transient": {
            "deleting": false
          }
        },
        "gather": {
          "logged": 1738257432560
        }
      }
    },
    {
      "cell_type": "code",
      "source": [
        "print(df.isnull().sum())"
      ],
      "outputs": [
        {
          "output_type": "stream",
          "name": "stdout",
          "text": "LeadId                    0\nAgentId                   0\nRecommendedAgentId        0\nCanText                   0\nEventDate                 0\nEventVenueName            0\nEventCity                 0\nEventStateId              0\nEventTypeId               0\nLeadSourceId              0\nArtistId                  0\nArtistName                0\nParticipant1Name          0\nParticipant2Name          0\nParticipant1TypeId        0\nParticipant2TypeId        0\nEventNotes                0\nReferralSource            0\nReferralArtistName        0\nReferralAgentName         0\nReferralEventDate         0\nReferralPresenterName     0\nReferralVenueName         0\nReferralContact           0\nReferralNotes             0\nIsClosed                  0\nWebData                   0\nCreatedById               0\nUpdatedById               0\nLineOfBusinessId          0\nBlueCardId                0\nPresenterId               0\nAccountName               0\nOrganizationName          0\nVenueId                   0\nVenueName                 0\nVenuePhysicalAddress1     0\nVenuePhysicalAddress2     0\nVenuePhysicalCity         0\nVenuePhysicalStateId      0\nVenuePhysicalZip          0\nVenuePhysicalCountryId    0\nVenueSettingId            0\nVenueCapacity             0\nIsSettingCovered          0\nIsPublicEvent             0\nEventBudget               0\nNotes                     0\nIsInProgress              0\nClosedReasonId            0\nCloneBlueCardId           0\nBlueCardArtistId          0\nGross                     0\nNet                       0\nIsDeleted                 0\ndtype: int64\n"
        }
      ],
      "execution_count": 34,
      "metadata": {
        "jupyter": {
          "source_hidden": false,
          "outputs_hidden": false
        },
        "nteract": {
          "transient": {
            "deleting": false
          }
        },
        "gather": {
          "logged": 1738257433566
        }
      }
    },
    {
      "cell_type": "code",
      "source": [
        "df['EventDate'] = pd.to_datetime(df['EventDate'],errors=\"coerce\")"
      ],
      "outputs": [],
      "execution_count": 35,
      "metadata": {
        "jupyter": {
          "source_hidden": false,
          "outputs_hidden": false
        },
        "nteract": {
          "transient": {
            "deleting": false
          }
        },
        "gather": {
          "logged": 1738257433919
        }
      }
    },
    {
      "cell_type": "code",
      "source": [
        "print(df.isnull().sum())\n"
      ],
      "outputs": [
        {
          "output_type": "stream",
          "name": "stdout",
          "text": "LeadId                    0\nAgentId                   0\nRecommendedAgentId        0\nCanText                   0\nEventDate                 0\nEventVenueName            0\nEventCity                 0\nEventStateId              0\nEventTypeId               0\nLeadSourceId              0\nArtistId                  0\nArtistName                0\nParticipant1Name          0\nParticipant2Name          0\nParticipant1TypeId        0\nParticipant2TypeId        0\nEventNotes                0\nReferralSource            0\nReferralArtistName        0\nReferralAgentName         0\nReferralEventDate         0\nReferralPresenterName     0\nReferralVenueName         0\nReferralContact           0\nReferralNotes             0\nIsClosed                  0\nWebData                   0\nCreatedById               0\nUpdatedById               0\nLineOfBusinessId          0\nBlueCardId                0\nPresenterId               0\nAccountName               0\nOrganizationName          0\nVenueId                   0\nVenueName                 0\nVenuePhysicalAddress1     0\nVenuePhysicalAddress2     0\nVenuePhysicalCity         0\nVenuePhysicalStateId      0\nVenuePhysicalZip          0\nVenuePhysicalCountryId    0\nVenueSettingId            0\nVenueCapacity             0\nIsSettingCovered          0\nIsPublicEvent             0\nEventBudget               0\nNotes                     0\nIsInProgress              0\nClosedReasonId            0\nCloneBlueCardId           0\nBlueCardArtistId          0\nGross                     0\nNet                       0\nIsDeleted                 0\ndtype: int64\n"
        }
      ],
      "execution_count": 36,
      "metadata": {
        "jupyter": {
          "source_hidden": false,
          "outputs_hidden": false
        },
        "nteract": {
          "transient": {
            "deleting": false
          }
        },
        "gather": {
          "logged": 1738257434887
        }
      }
    },
    {
      "cell_type": "code",
      "source": [
        "# Extract time-related features\n",
        "df['Year'] = df['EventDate'].dt.year\n",
        "df['Month'] = df['EventDate'].dt.month\n",
        "df['Weekday'] = df['EventDate'].dt.weekday\n",
        "df['Quarter'] = df['EventDate'].dt.quarter\n",
        "\n",
        "# Add lag features\n",
        "df['Gross_Lag_1'] = df['Gross'].shift(1)\n",
        "df['Gross_Lag_2'] = df['Gross'].shift(2)\n",
        "\n",
        "# Add rolling window features\n",
        "df['Gross_Rolling_Mean_3'] = df['Gross'].rolling(window=3).mean()\n",
        "df['Gross_Rolling_Std_3'] = df['Gross'].rolling(window=3).std()"
      ],
      "outputs": [],
      "execution_count": 37,
      "metadata": {
        "jupyter": {
          "source_hidden": false,
          "outputs_hidden": false
        },
        "nteract": {
          "transient": {
            "deleting": false
          }
        },
        "gather": {
          "logged": 1738257435299
        }
      }
    },
    {
      "cell_type": "code",
      "source": [
        "print(df.isnull().sum())\n"
      ],
      "outputs": [
        {
          "output_type": "stream",
          "name": "stdout",
          "text": "LeadId                  0\nAgentId                 0\nRecommendedAgentId      0\nCanText                 0\nEventDate               0\n                       ..\nQuarter                 0\nGross_Lag_1             1\nGross_Lag_2             2\nGross_Rolling_Mean_3    2\nGross_Rolling_Std_3     2\nLength: 63, dtype: int64\n"
        }
      ],
      "execution_count": 38,
      "metadata": {
        "jupyter": {
          "source_hidden": false,
          "outputs_hidden": false
        },
        "nteract": {
          "transient": {
            "deleting": false
          }
        },
        "gather": {
          "logged": 1738257435654
        }
      }
    },
    {
      "cell_type": "code",
      "source": [
        "df.dropna(axis=0,inplace=True)"
      ],
      "outputs": [],
      "execution_count": 39,
      "metadata": {
        "jupyter": {
          "source_hidden": false,
          "outputs_hidden": false
        },
        "nteract": {
          "transient": {
            "deleting": false
          }
        },
        "gather": {
          "logged": 1738257436696
        }
      }
    },
    {
      "cell_type": "code",
      "source": [
        "# Perform ADF test\n",
        "result = adfuller(df['Gross'].dropna())\n",
        "print(f'ADF Statistic: {result[0]}')\n",
        "print(f'p-value: {result[1]}')\n",
        "if (result[1] < 0.05):\n",
        "    print(\"Null hypothesis is rejected, The data is stationary\")\n",
        "else:\n",
        "    print(\"Null hypothesis cannot be rejected, The data is non-stationary\")"
      ],
      "outputs": [
        {
          "output_type": "stream",
          "name": "stdout",
          "text": "ADF Statistic: -388.2629265706641\np-value: 0.0\nNull hypothesis is rejected, The data is stationary\n"
        }
      ],
      "execution_count": 40,
      "metadata": {
        "jupyter": {
          "source_hidden": false,
          "outputs_hidden": false
        },
        "nteract": {
          "transient": {
            "deleting": false
          }
        },
        "gather": {
          "logged": 1738257450575
        }
      }
    },
    {
      "cell_type": "code",
      "source": [
        "from sklearn.model_selection import TimeSeriesSplit\n",
        "from sklearn.model_selection import train_test_split\n",
        "\n",
        "tscv = TimeSeriesSplit(n_splits=5)\n",
        "for train_index, test_index in tscv.split(df):\n",
        "    train, test = df.iloc[train_index], df.iloc[test_index]\n",
        "    print(f'Train size: {len(train)}, Test size: {len(test)}')"
      ],
      "outputs": [
        {
          "output_type": "stream",
          "name": "stdout",
          "text": "Train size: 25137, Test size: 25134\nTrain size: 50271, Test size: 25134\nTrain size: 75405, Test size: 25134\nTrain size: 100539, Test size: 25134\nTrain size: 125673, Test size: 25134\n"
        }
      ],
      "execution_count": 41,
      "metadata": {
        "jupyter": {
          "source_hidden": false,
          "outputs_hidden": false
        },
        "nteract": {
          "transient": {
            "deleting": false
          }
        },
        "gather": {
          "logged": 1738257452159
        }
      }
    },
    {
      "cell_type": "code",
      "source": [
        "df.index"
      ],
      "outputs": [
        {
          "output_type": "execute_result",
          "execution_count": 42,
          "data": {
            "text/plain": "Index([     2,      3,      4,      5,      6,      7,      8,      9,     10,\n           11,\n       ...\n       150799, 150800, 150801, 150802, 150803, 150804, 150805, 150806, 150807,\n       150808],\n      dtype='int64', length=150807)"
          },
          "metadata": {}
        }
      ],
      "execution_count": 42,
      "metadata": {
        "gather": {
          "logged": 1738257452610
        }
      }
    },
    {
      "cell_type": "code",
      "source": [
        "# Prepare features and target\n",
        "X = df.drop(['EventDate', 'Gross'], axis=1)\n",
        "y = df['Gross']\n",
        "\n",
        "# Train-test split\n",
        "X_train, X_test, y_train, y_test = train_test_split(X, y, test_size=0.2, shuffle=False)"
      ],
      "outputs": [],
      "execution_count": 43,
      "metadata": {
        "jupyter": {
          "source_hidden": false,
          "outputs_hidden": false
        },
        "nteract": {
          "transient": {
            "deleting": false
          }
        },
        "gather": {
          "logged": 1738257453028
        }
      }
    },
    {
      "cell_type": "code",
      "source": [
        "from sklearn.ensemble import RandomForestRegressor\n",
        "from sklearn.metrics import mean_squared_error\n",
        "\n",
        "# Random forest model\n",
        "rf = RandomForestRegressor(n_estimators=100, random_state=42)\n",
        "rf.fit(X_train, y_train)\n",
        "\n",
        "# Predictions\n",
        "y_pred = rf.predict(X_test)\n",
        "\n",
        "# Evaluate\n",
        "mse = mean_squared_error(y_test, y_pred)\n",
        "print(f'Random Forest MSE: {mse}')\n"
      ],
      "outputs": [
        {
          "output_type": "stream",
          "name": "stdout",
          "text": "Random Forest MSE: 489070.09708576027\n"
        }
      ],
      "execution_count": 44,
      "metadata": {
        "gather": {
          "logged": 1738257801778
        }
      }
    },
    {
      "cell_type": "code",
      "source": [
        "features = list(X_train.columns)\n",
        "f_i = list(zip(features,rf.feature_importances_))\n",
        "f_i.sort(key = lambda x : x[1])\n",
        "plt.figure(figsize=(10, 15))\n",
        "\n",
        "plt.barh([x[0] for x in f_i],[x[1] for x in f_i])\n",
        "plt.gca().invert_yaxis()  # Invert the y-axis to show the most important feature at the top\n",
        "plt.show()\n"
      ],
      "outputs": [
        {
          "output_type": "display_data",
          "data": {
            "text/plain": "<Figure size 1000x1500 with 1 Axes>",
            "image/png": "[encoded data removed]"
          },
          "metadata": {}
        }
      ],
      "execution_count": 45,
      "metadata": {
        "gather": {
          "logged": 1738257802549
        }
      }
    },
    {
      "cell_type": "code",
      "source": [
        "# Prepare features and target\n",
        "X = df[['Gross_Rolling_Std_3', 'Gross_Rolling_Mean_3', 'ReferralContact', 'PresenterId', 'AgentId', 'Participant2Name', 'VenueName', 'BlueCardArtistId', 'Gross_Lag_1', 'VenuePhysicalZip']]\n",
        "y = df['Gross']\n",
        "\n",
        "# Train-test split\n",
        "X_train, X_test, y_train, y_test = train_test_split(X, y, test_size=0.2, shuffle=False)"
      ],
      "outputs": [],
      "execution_count": 46,
      "metadata": {
        "gather": {
          "logged": 1738257803008
        }
      }
    },
    {
      "cell_type": "code",
      "source": [
        "X_train.iloc[:1]"
      ],
      "outputs": [
        {
          "output_type": "execute_result",
          "execution_count": 47,
          "data": {
            "text/plain": "   Gross_Rolling_Std_3  Gross_Rolling_Mean_3  ReferralContact  PresenterId  \\\n2         13536.986371               21000.0            14716         6614   \n\n   AgentId  Participant2Name  VenueName  BlueCardArtistId  Gross_Lag_1  \\\n2       38              4414       8609                 2      36500.0   \n\n   VenuePhysicalZip  \n2                 0  ",
            "text/html": "<div>\n<style scoped>\n    .dataframe tbody tr th:only-of-type {\n        vertical-align: middle;\n    }\n\n    .dataframe tbody tr th {\n        vertical-align: top;\n    }\n\n    .dataframe thead th {\n        text-align: right;\n    }\n</style>\n<table border=\"1\" class=\"dataframe\">\n  <thead>\n    <tr style=\"text-align: right;\">\n      <th></th>\n      <th>Gross_Rolling_Std_3</th>\n      <th>Gross_Rolling_Mean_3</th>\n      <th>ReferralContact</th>\n      <th>PresenterId</th>\n      <th>AgentId</th>\n      <th>Participant2Name</th>\n      <th>VenueName</th>\n      <th>BlueCardArtistId</th>\n      <th>Gross_Lag_1</th>\n      <th>VenuePhysicalZip</th>\n    </tr>\n  </thead>\n  <tbody>\n    <tr>\n      <th>2</th>\n      <td>13536.986371</td>\n      <td>21000.0</td>\n      <td>14716</td>\n      <td>6614</td>\n      <td>38</td>\n      <td>4414</td>\n      <td>8609</td>\n      <td>2</td>\n      <td>36500.0</td>\n      <td>0</td>\n    </tr>\n  </tbody>\n</table>\n</div>"
          },
          "metadata": {}
        }
      ],
      "execution_count": 47,
      "metadata": {
        "gather": {
          "logged": 1738257804248
        }
      }
    },
    {
      "cell_type": "code",
      "source": [
        "from sklearn.linear_model import LinearRegression\n",
        "\n",
        "# Linear regression model\n",
        "lr = LinearRegression()\n",
        "lr.fit(X_train, y_train)\n",
        "\n",
        "# Predictions\n",
        "y_pred = lr.predict(X_test)\n",
        "\n",
        "# Evaluate\n",
        "mse = mean_squared_error(y_test, y_pred)\n",
        "print(f'Linear Regression MSE: {mse}')\n"
      ],
      "outputs": [
        {
          "output_type": "stream",
          "name": "stdout",
          "text": "Linear Regression MSE: 19609126.669592194\n"
        }
      ],
      "execution_count": 48,
      "metadata": {
        "jupyter": {
          "source_hidden": false,
          "outputs_hidden": false
        },
        "nteract": {
          "transient": {
            "deleting": false
          }
        },
        "gather": {
          "logged": 1738257804668
        }
      }
    },
    {
      "cell_type": "code",
      "source": [
        "from sklearn.tree import DecisionTreeRegressor\n",
        "\n",
        "# Decision tree model\n",
        "dt = DecisionTreeRegressor(max_depth=5, random_state=42)\n",
        "dt.fit(X_train, y_train)\n",
        "\n",
        "# Predictions\n",
        "y_pred = dt.predict(X_test)\n",
        "\n",
        "# Evaluate\n",
        "mse = mean_squared_error(y_test, y_pred)\n",
        "print(f'Decision Tree MSE: {mse}')\n"
      ],
      "outputs": [
        {
          "output_type": "stream",
          "name": "stdout",
          "text": "Decision Tree MSE: 22327292.147471804\n"
        }
      ],
      "execution_count": 49,
      "metadata": {
        "jupyter": {
          "source_hidden": false,
          "outputs_hidden": false
        },
        "nteract": {
          "transient": {
            "deleting": false
          }
        },
        "gather": {
          "logged": 1738257805865
        }
      }
    },
    {
      "cell_type": "code",
      "source": [
        "from sklearn.ensemble import GradientBoostingRegressor\n",
        "\n",
        "# Gradient boosting model\n",
        "gb = GradientBoostingRegressor(n_estimators=100, random_state=42)\n",
        "gb.fit(X_train, y_train)\n",
        "\n",
        "# Predictions\n",
        "y_pred = gb.predict(X_test)\n",
        "\n",
        "# Evaluate\n",
        "mse = mean_squared_error(y_test, y_pred)\n",
        "print(f'Gradient Boosting MSE: {mse}')\n"
      ],
      "outputs": [
        {
          "output_type": "stream",
          "name": "stdout",
          "text": "Gradient Boosting MSE: 11465023.659740595\n"
        }
      ],
      "execution_count": 50,
      "metadata": {
        "jupyter": {
          "source_hidden": false,
          "outputs_hidden": false
        },
        "nteract": {
          "transient": {
            "deleting": false
          }
        },
        "gather": {
          "logged": 1738257826876
        }
      }
    },
    {
      "cell_type": "code",
      "source": [
        "from sklearn.neural_network import MLPRegressor\n",
        "\n",
        "# MLP Regressor model\n",
        "mlp = MLPRegressor(hidden_layer_sizes=(50, 50), max_iter=500, random_state=42)\n",
        "mlp.fit(X_train, y_train)\n",
        "\n",
        "# Predictions\n",
        "y_pred = mlp.predict(X_test)\n",
        "\n",
        "# Evaluate\n",
        "mse = mean_squared_error(y_test, y_pred)\n",
        "print(f'MLP Regressor MSE: {mse}')\n"
      ],
      "outputs": [
        {
          "output_type": "stream",
          "name": "stdout",
          "text": "MLP Regressor MSE: 12527492.595276466\n"
        }
      ],
      "execution_count": 51,
      "metadata": {
        "jupyter": {
          "source_hidden": false,
          "outputs_hidden": false
        },
        "nteract": {
          "transient": {
            "deleting": false
          }
        },
        "gather": {
          "logged": 1738257852399
        }
      }
    },
    {
      "cell_type": "code",
      "source": [
        "models = {\n",
        "    'Linear Regression': LinearRegression(),\n",
        "    'Decision Tree': DecisionTreeRegressor(max_depth=5, random_state=42),\n",
        "    'Random Forest': RandomForestRegressor(n_estimators=100, random_state=42),\n",
        "    'Gradient Boosting': GradientBoostingRegressor(n_estimators=100, random_state=42),\n",
        "    'MLP Regressor': MLPRegressor(hidden_layer_sizes=(50, 50), max_iter=500, random_state=42),\n",
        "}\n",
        "\n",
        "results = {}\n",
        "for name, model in models.items():\n",
        "    model.fit(X_train, y_train)\n",
        "    y_pred = model.predict(X_test)\n",
        "    mse = mean_squared_error(y_test, y_pred)\n",
        "    results[name] = mse\n",
        "\n",
        "# Print results\n",
        "for name, mse in results.items():\n",
        "    print(f'{name}: MSE = {mse}')\n"
      ],
      "outputs": [
        {
          "output_type": "stream",
          "name": "stdout",
          "text": "Linear Regression: MSE = 19609126.669592194\nDecision Tree: MSE = 22327292.147471804\nRandom Forest: MSE = 11038817.48574287\nGradient Boosting: MSE = 11465023.659740595\nMLP Regressor: MSE = 12527492.595276466\n"
        }
      ],
      "execution_count": 58,
      "metadata": {
        "jupyter": {
          "source_hidden": false,
          "outputs_hidden": false
        },
        "nteract": {
          "transient": {
            "deleting": false
          }
        },
        "gather": {
          "logged": 1738259643470
        }
      }
    },
    {
      "cell_type": "code",
      "source": [
        "test_data = pd.DataFrame({\n",
        "    'Date': df.index[len(X_train):],  \n",
        "    'Actual Gross': y_test,\n",
        "    'Predicted Gross': y_pred\n",
        "})\n",
        "\n",
        "# Plot actual vs predicted gross\n",
        "plt.figure(figsize=(12, 6))\n",
        "plt.plot(test_data.index, test_data['Actual Gross'], label='Actual Gross', color='blue', marker='o')\n",
        "plt.plot(test_data.index, test_data['Predicted Gross'], label='Predicted Gross', color='orange', linestyle='--', marker='x')\n",
        "plt.title('Actual vs Predicted Gross Over Time', fontsize=16)\n",
        "plt.xlabel('EventDate', fontsize=12)\n",
        "plt.ylabel('Gross', fontsize=12)\n",
        "plt.legend(fontsize=12)\n",
        "plt.grid(alpha=0.3)\n",
        "plt.xticks(rotation=45)\n",
        "plt.tight_layout()\n",
        "plt.show()"
      ],
      "outputs": [],
      "execution_count": null,
      "metadata": {
        "jupyter": {
          "source_hidden": false,
          "outputs_hidden": false
        },
        "nteract": {
          "transient": {
            "deleting": false
          }
        },
        "gather": {
          "logged": 1738257855789
        }
      }
    },
    {
      "cell_type": "code",
      "source": [
        "joblib.dump(models, 'lr_model_feature_reduction.joblib') "
      ],
      "outputs": [],
      "execution_count": null,
      "metadata": {
        "gather": {
          "logged": 1738257856348
        }
      }
    },
    {
      "cell_type": "code",
      "source": [
        "test_data.to_csv('test_data.csv')"
      ],
      "outputs": [],
      "execution_count": null,
      "metadata": {
        "gather": {
          "logged": 1738257856534
        }
      }
    }
  ],
  "metadata": {
    "kernelspec": {
      "name": "python38-azureml",
      "language": "python",
      "display_name": "Python 3.8 - AzureML"
    },
    "language_info": {
      "name": "python",
      "version": "3.10.11",
      "mimetype": "text/x-python",
      "codemirror_mode": {
        "name": "ipython",
        "version": 3
      },
      "pygments_lexer": "ipython3",
      "nbconvert_exporter": "python",
      "file_extension": ".py"
    },
    "microsoft": {
      "ms_spell_check": {
        "ms_spell_check_language": "en"
      },
      "host": {
        "AzureML": {
          "notebookHasBeenCompleted": true
        }
      }
    },
    "nteract": {
      "version": "nteract-front-end@1.0.0"
    },
    "kernel_info": {
      "name": "python38-azureml"
    }
  },
  "nbformat": 4,
  "nbformat_minor": 2
}
