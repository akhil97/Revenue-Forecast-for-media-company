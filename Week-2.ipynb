{
  "cells": [
    {
      "cell_type": "code",
      "source": [
        "!pip install pyodbc"
      ],
      "outputs": [
        {
          "output_type": "stream",
          "name": "stdout",
          "text": "Requirement already satisfied: pyodbc in /anaconda/envs/azureml_py38/lib/python3.10/site-packages (5.2.0)\r\n"
        }
      ],
      "execution_count": 1,
      "metadata": {
        "jupyter": {
          "source_hidden": false,
          "outputs_hidden": false
        },
        "nteract": {
          "transient": {
            "deleting": false
          }
        }
      }
    },
    {
      "cell_type": "code",
      "source": [
        "import pyodbc\n",
        "import pandas as pd"
      ],
      "outputs": [],
      "execution_count": 2,
      "metadata": {
        "gather": {
          "logged": 1738725836380
        }
      }
    },
    {
      "cell_type": "code",
      "source": [
        "server = 'techentdec.database.windows.net'  \n",
        "database = 'QAECECRM_dec'                   \n",
        "username = 'dbadmin'                \n",
        "password = 'DashTech1234'         \n",
        "connection_string = f\"\"\"\n",
        "Driver={{ODBC Driver 17 for SQL Server}};\n",
        "Server={server};\n",
        "Database={database};\n",
        "Uid={username};\n",
        "Pwd={password};\n",
        "Encrypt=yes;\n",
        "TrustServerCertificate=no;\n",
        "Connection Timeout=30;\n",
        "\"\"\"\n",
        "\n",
        "try:\n",
        "    connection = pyodbc.connect(connection_string)\n",
        "    print(\"Connection successful!\")\n",
        "except Exception as e:\n",
        "    print(f\"Connection failed: {e}\")\n",
        "    exit()\n",
        "\n",
        "sql_query = \"\"\"\n",
        "SELECT C.ContractId, C.Gross, CT.RequiredAmount FROM Contract AS C\n",
        "JOIN ContractTransaction AS CT ON C.ContractId = CT.ContractId\n",
        "\"\"\"\n",
        "\n",
        "df = pd.read_sql(sql_query, connection)\n",
        "print(df) \n",
        "df.to_csv('data1.csv')"
      ],
      "outputs": [
        {
          "output_type": "stream",
          "name": "stdout",
          "text": "Connection successful!\n        ContractId   Gross  RequiredAmount\n0           103619   300.0             0.0\n1           108723  1350.0             0.0\n2           108723  1350.0          -202.5\n3           108723  1350.0           202.5\n4           122544  1665.0             0.0\n...            ...     ...             ...\n988275      847751  9000.0          2700.0\n988276      847752  2000.0          1000.0\n988277      847752  2000.0           250.0\n988278      847752  2000.0           350.0\n988279      847752  2000.0           400.0\n\n[988280 rows x 3 columns]\n"
        },
        {
          "output_type": "stream",
          "name": "stderr",
          "text": "/tmp/ipykernel_3075/204115355.py:28: UserWarning: pandas only supports SQLAlchemy connectable (engine/connection) or database string URI or sqlite3 DBAPI2 connection. Other DBAPI2 objects are not tested. Please consider using SQLAlchemy.\n  df = pd.read_sql(sql_query, connection)\n"
        }
      ],
      "execution_count": 3,
      "metadata": {
        "jupyter": {
          "source_hidden": false,
          "outputs_hidden": false
        },
        "nteract": {
          "transient": {
            "deleting": false
          }
        },
        "gather": {
          "logged": 1738725936645
        }
      }
    },
    {
      "cell_type": "code",
      "source": [
        "server = 'techentdec.database.windows.net'  \n",
        "database = 'QAECECRM_dec'                   \n",
        "username = 'dbadmin'                \n",
        "password = 'DashTech1234'         \n",
        "connection_string = f\"\"\"\n",
        "Driver={{ODBC Driver 17 for SQL Server}};\n",
        "Server={server};\n",
        "Database={database};\n",
        "Uid={username};\n",
        "Pwd={password};\n",
        "Encrypt=yes;\n",
        "TrustServerCertificate=no;\n",
        "Connection Timeout=30;\n",
        "\"\"\"\n",
        "\n",
        "try:\n",
        "    connection = pyodbc.connect(connection_string)\n",
        "    print(\"Connection successful!\")\n",
        "except Exception as e:\n",
        "    print(f\"Connection failed: {e}\")\n",
        "    exit()\n",
        "\n",
        "sql_query = \"\"\"\n",
        "SELECT CC.ContractCancellationId, CC.CancellationReasonNotes, C.AgentId FROM ContractCancellation AS CC \n",
        "JOIN Contract AS C ON CC.ContractID = C.ContractId\n",
        "WHERE CC.CancellationReasonNotes != '[Unknown]'\n",
        "\n",
        "\"\"\"\n",
        "\n",
        "df = pd.read_sql(sql_query, connection)\n",
        "print(df.head()) \n",
        "df.to_csv('data2.csv')"
      ],
      "outputs": [
        {
          "output_type": "stream",
          "name": "stderr",
          "text": "/tmp/ipykernel_3075/1994950869.py:30: UserWarning: pandas only supports SQLAlchemy connectable (engine/connection) or database string URI or sqlite3 DBAPI2 connection. Other DBAPI2 objects are not tested. Please consider using SQLAlchemy.\n  df = pd.read_sql(sql_query, connection)\n"
        },
        {
          "output_type": "stream",
          "name": "stdout",
          "text": "   ContractCancellationId CancellationReasonNotes  AgentId\n0                   19998      Commission Changed        0\n1                   19988      Commission Changed        0\n2                   20497         Band Backed Out        0\n3                   20104         Band Backed Out        0\n4                   20053    Cancelled/Re-Written        0\n"
        }
      ],
      "execution_count": 4,
      "metadata": {
        "jupyter": {
          "source_hidden": false,
          "outputs_hidden": false
        },
        "nteract": {
          "transient": {
            "deleting": false
          }
        },
        "gather": {
          "logged": 1738725941290
        }
      }
    },
    {
      "cell_type": "code",
      "source": [
        "server = 'techentdec.database.windows.net'  \n",
        "database = 'QAECECRM_dec'                   \n",
        "username = 'dbadmin'                \n",
        "password = 'DashTech1234'         \n",
        "connection_string = f\"\"\"\n",
        "Driver={{ODBC Driver 17 for SQL Server}};\n",
        "Server={server};\n",
        "Database={database};\n",
        "Uid={username};\n",
        "Pwd={password};\n",
        "Encrypt=yes;\n",
        "TrustServerCertificate=no;\n",
        "Connection Timeout=30;\n",
        "\"\"\"\n",
        "\n",
        "try:\n",
        "    connection = pyodbc.connect(connection_string)\n",
        "    print(\"Connection successful!\")\n",
        "except Exception as e:\n",
        "    print(f\"Connection failed: {e}\")\n",
        "    exit()\n",
        "\n",
        "sql_query = \"\"\"\n",
        "SELECT A.FirstName, A.LastName, E.EmailQueueStatusId FROM AppUser AS A\n",
        "JOIN EmailQueue AS E ON A.AppUserId = E.AppUserId\n",
        "WHERE A.FirstName != '[Unknown]' AND A.LastName != '[Unknown]'\n",
        "\"\"\"\n",
        "\n",
        "df = pd.read_sql(sql_query, connection)\n",
        "print(df.head(100))\n",
        "df.to_csv('data3.csv') "
      ],
      "outputs": [
        {
          "output_type": "stream",
          "name": "stderr",
          "text": "/tmp/ipykernel_3075/1692310620.py:29: UserWarning: pandas only supports SQLAlchemy connectable (engine/connection) or database string URI or sqlite3 DBAPI2 connection. Other DBAPI2 objects are not tested. Please consider using SQLAlchemy.\n  df = pd.read_sql(sql_query, connection)\n"
        },
        {
          "output_type": "stream",
          "name": "stdout",
          "text": "   FirstName   LastName  EmailQueueStatusId\n0       Nick     Swaine                   3\n1       Nick     Swaine                   3\n2       TEST  FAKE USER                   3\n3    Lindsey   McIntire                   3\n4    Lindsey   McIntire                   3\n..       ...        ...                 ...\n95      Doug      Baker                   3\n96      Reid     Farber                   3\n97      Kris   Kaminski                   3\n98     Mason       Owen                   3\n99      Team  Charlotte                   3\n\n[100 rows x 3 columns]\n"
        }
      ],
      "execution_count": 5,
      "metadata": {
        "jupyter": {
          "source_hidden": false,
          "outputs_hidden": false
        },
        "nteract": {
          "transient": {
            "deleting": false
          }
        },
        "gather": {
          "logged": 1738726304865
        }
      }
    }
  ],
  "metadata": {
    "kernelspec": {
      "name": "python38-azureml",
      "language": "python",
      "display_name": "Python 3.8 - AzureML"
    },
    "language_info": {
      "name": "python",
      "version": "3.10.11",
      "mimetype": "text/x-python",
      "codemirror_mode": {
        "name": "ipython",
        "version": 3
      },
      "pygments_lexer": "ipython3",
      "nbconvert_exporter": "python",
      "file_extension": ".py"
    },
    "microsoft": {
      "ms_spell_check": {
        "ms_spell_check_language": "en"
      },
      "host": {
        "AzureML": {
          "notebookHasBeenCompleted": true
        }
      }
    },
    "nteract": {
      "version": "nteract-front-end@1.0.0"
    },
    "kernel_info": {
      "name": "python38-azureml"
    }
  },
  "nbformat": 4,
  "nbformat_minor": 2
}