{
  "cells": [
    {
      "cell_type": "code",
      "source": [
        "!pip install pyodbc"
      ],
      "outputs": [
        {
          "output_type": "stream",
          "name": "stdout",
          "text": "Requirement already satisfied: pyodbc in /anaconda/envs/azureml_py38/lib/python3.10/site-packages (5.2.0)\r\n"
        }
      ],
      "execution_count": 1,
      "metadata": {
        "jupyter": {
          "source_hidden": false,
          "outputs_hidden": false
        },
        "nteract": {
          "transient": {
            "deleting": false
          }
        }
      }
    },
    {
      "cell_type": "code",
      "source": [
        "import pyodbc\n",
        "import pandas as pd\n",
        "import matplotlib.pyplot as plt"
      ],
      "outputs": [],
      "execution_count": 2,
      "metadata": {
        "gather": {
          "logged": 1736172737511
        }
      }
    },
    {
      "cell_type": "code",
      "source": [
        "server = 'techentdec.database.windows.net'  \n",
        "database = 'QAECECRM_dec'                   \n",
        "username = 'dbadmin'                \n",
        "password = 'DashTech1234'         \n",
        "connection_string = f\"\"\"\n",
        "Driver={{ODBC Driver 17 for SQL Server}};\n",
        "Server={server};\n",
        "Database={database};\n",
        "Uid={username};\n",
        "Pwd={password};\n",
        "Encrypt=yes;\n",
        "TrustServerCertificate=no;\n",
        "Connection Timeout=30;\n",
        "\"\"\"\n",
        "\n",
        "try:\n",
        "    connection = pyodbc.connect(connection_string)\n",
        "    print(\"Connection successful!\")\n",
        "except Exception as e:\n",
        "    print(f\"Connection failed: {e}\")\n",
        "    exit()\n",
        "\n",
        "sql_query = \"\"\"\n",
        "SELECT * from [dbo].[Contract]\n",
        "\n",
        "\"\"\"\n",
        "\n",
        "df = pd.read_sql(sql_query, connection)\n",
        "print(df.head()) "
      ],
      "outputs": [
        {
          "output_type": "stream",
          "name": "stdout",
          "text": "Connection successful!\n   ContractId  AgentId  OfficeId  ContractStatusId  LineOfBusinessId   Gross  \\\n0      100304        0      17.0                 3               2.0  1700.0   \n1      101731      419       1.0                 6               3.0   550.0   \n2      103324        0       1.0                 4               3.0  2000.0   \n3      103331      313       1.0                 5               3.0  1500.0   \n4      103526        0       1.0                 3               3.0  1000.0   \n\n   BlueCardId  LeadSourceId  ContractTypeId IsReseller  ...  CreatedDate  \\\n0         NaN           3.0             1.0       True  ...   1988-09-15   \n1         NaN           5.0             1.0       True  ...   1989-01-03   \n2         NaN           5.0             1.0      False  ...   2001-04-28   \n3         NaN           5.0             1.0       True  ...   1989-04-28   \n4         NaN           5.0             1.0      False  ...   1989-05-15   \n\n  CreatedById             UpdatedDate UpdatedById ArchiveDate OriginalGross  \\\n0           0 2018-06-19 07:31:43.930    999999.0  2018-06-02           NaN   \n1           0 2018-06-19 07:31:43.930    999999.0  2018-06-02           NaN   \n2           0 2018-06-02 17:22:01.970    999999.0  2018-06-02           NaN   \n3           0 2018-06-19 07:31:43.930    999999.0  2018-06-02           NaN   \n4           0 2018-06-02 17:22:01.970    999999.0  2018-06-02           NaN   \n\n  IsProblemExcluded EventDescription  IsWillAgentAttendTheEvent  IsSalaried  \n0             False             None                      False       False  \n1             False             None                      False       False  \n2             False             None                      False       False  \n3             False             None                      False       False  \n4             False             None                      False       False  \n\n[5 rows x 70 columns]\n"
        }
      ],
      "execution_count": 7,
      "metadata": {
        "jupyter": {
          "source_hidden": false,
          "outputs_hidden": false
        },
        "nteract": {
          "transient": {
            "deleting": false
          }
        },
        "gather": {
          "logged": 1736180747531
        }
      }
    },
    {
      "cell_type": "code",
      "source": [
        "for col in df.columns:\n",
        "    print(df[col].isna().value_counts())\n"
      ],
      "outputs": [
        {
          "output_type": "stream",
          "name": "stdout",
          "text": "False    303633\nName: ContractId, dtype: int64\nFalse    303633\nName: AgentId, dtype: int64\nFalse    301890\nTrue       1743\nName: OfficeId, dtype: int64\nFalse    303633\nName: ContractStatusId, dtype: int64\nFalse    301890\nTrue       1743\nName: LineOfBusinessId, dtype: int64\nFalse    303633\nName: Gross, dtype: int64\nTrue     272698\nFalse     30935\nName: BlueCardId, dtype: int64\nFalse    301890\nTrue       1743\nName: LeadSourceId, dtype: int64\nFalse    301890\nTrue       1743\nName: ContractTypeId, dtype: int64\nFalse    301890\nTrue       1743\nName: IsReseller, dtype: int64\nTrue     290670\nFalse     12963\nName: ResellerId, dtype: int64\nFalse    301744\nTrue       1889\nName: ContractDueDate, dtype: int64\nFalse    301890\nTrue       1743\nName: ContractDueFromId, dtype: int64\nFalse    301890\nTrue       1743\nName: IsBuySell, dtype: int64\nFalse    301890\nTrue       1743\nName: IsNoIssue, dtype: int64\nFalse    301890\nTrue       1743\nName: IsSubstitute, dtype: int64\nFalse    301890\nTrue       1743\nName: IsBackendDeal, dtype: int64\nTrue     266266\nFalse     37367\nName: BackendDescription, dtype: int64\nFalse    302828\nTrue        805\nName: EventTypeId, dtype: int64\nTrue     266862\nFalse     36771\nName: TimezoneId, dtype: int64\nFalse    302827\nTrue        806\nName: IsPublicEvent, dtype: int64\nFalse    302148\nTrue       1485\nName: PresenterId, dtype: int64\nFalse    302148\nTrue       1485\nName: PresenterTypeId, dtype: int64\nFalse    303633\nName: PresenterAccountName, dtype: int64\nTrue     165050\nFalse    138583\nName: PresenterOrganizationName, dtype: int64\nFalse    303633\nName: PresenterMailingAddress1, dtype: int64\nFalse    213160\nTrue      90473\nName: PresenterMailingAddress2, dtype: int64\nFalse    303633\nName: PresenterMailingCity, dtype: int64\nFalse    302148\nTrue       1485\nName: PresenterMailingStateId, dtype: int64\nFalse    303633\nName: PresenterMailingZip, dtype: int64\nFalse    302148\nTrue       1485\nName: PresenterMailingCountryId, dtype: int64\nTrue     285000\nFalse     18633\nName: VenueId, dtype: int64\nFalse    303633\nName: VenueName, dtype: int64\nFalse    303633\nName: VenuePhysicalAddress1, dtype: int64\nTrue     264936\nFalse     38697\nName: VenuePhysicalAddress2, dtype: int64\nFalse    303633\nName: VenuePhysicalCity, dtype: int64\nFalse    302627\nTrue       1006\nName: VenuePhysicalStateId, dtype: int64\nFalse    303633\nName: VenuePhysicalZip, dtype: int64\nFalse    302185\nTrue       1448\nName: VenuePhysicalCountryId, dtype: int64\nTrue     299933\nFalse      3700\nName: VenueCapacity, dtype: int64\nFalse    302060\nTrue       1573\nName: VenueSettingId, dtype: int64\nFalse    302626\nTrue       1007\nName: IsSettingCovered, dtype: int64\nTrue     264880\nFalse     38753\nName: VenueContactName, dtype: int64\nTrue     264957\nFalse     38676\nName: VenueContactTitle, dtype: int64\nTrue     264928\nFalse     38705\nName: VenueContactEmail, dtype: int64\nTrue     264912\nFalse     38721\nName: VenueContactPhone, dtype: int64\nTrue     265073\nFalse     38560\nName: VenueContactFax, dtype: int64\nFalse    277201\nTrue      26432\nName: VenueGeoLatitude, dtype: int64\nFalse    277201\nTrue      26432\nName: VenueGeoLongitude, dtype: int64\nTrue     268011\nFalse     35622\nName: ECECommissionRate, dtype: int64\nFalse    301192\nTrue       2441\nName: IsCommissionPercentage, dtype: int64\nFalse    274046\nTrue      29587\nName: IsPaid, dtype: int64\nFalse    303633\nName: HasIssues, dtype: int64\nTrue     169937\nFalse    133696\nName: Terms, dtype: int64\nFalse    303633\nName: IsInProgress, dtype: int64\nFalse    296848\nTrue       6785\nName: IssueDate, dtype: int64\nTrue     259129\nFalse     44504\nName: CancellationDate, dtype: int64\nTrue     225405\nFalse     78228\nName: Notes, dtype: int64\nTrue     297474\nFalse      6159\nName: CommissionProgramId, dtype: int64\nTrue     297474\nFalse      6159\nName: CommissionProgramAgentId, dtype: int64\nFalse    303633\nName: CreatedDate, dtype: int64\nFalse    303633\nName: CreatedById, dtype: int64\nFalse    223992\nTrue      79641\nName: UpdatedDate, dtype: int64\nFalse    223992\nTrue      79641\nName: UpdatedById, dtype: int64\nFalse    166517\nTrue     137116\nName: ArchiveDate, dtype: int64\nTrue     302523\nFalse      1110\nName: OriginalGross, dtype: int64\nFalse    303633\nName: IsProblemExcluded, dtype: int64\nTrue     294121\nFalse      9512\nName: EventDescription, dtype: int64\nFalse    303325\nTrue        308\nName: IsWillAgentAttendTheEvent, dtype: int64\nFalse    303592\nTrue         41\nName: IsSalaried, dtype: int64\n"
        }
      ],
      "execution_count": 9,
      "metadata": {
        "jupyter": {
          "source_hidden": false,
          "outputs_hidden": false
        },
        "nteract": {
          "transient": {
            "deleting": false
          }
        },
        "gather": {
          "logged": 1734217767368
        }
      }
    },
    {
      "cell_type": "markdown",
      "source": [
        "**1.) Data Cleaning**"
      ],
      "metadata": {
        "nteract": {
          "transient": {
            "deleting": false
          }
        }
      }
    },
    {
      "cell_type": "code",
      "source": [
        "df['OfficeId'].fillna(0, inplace=True)"
      ],
      "outputs": [],
      "execution_count": 23,
      "metadata": {
        "jupyter": {
          "source_hidden": false,
          "outputs_hidden": false
        },
        "nteract": {
          "transient": {
            "deleting": false
          }
        },
        "gather": {
          "logged": 1734219474568
        }
      }
    },
    {
      "cell_type": "code",
      "source": [
        "df['ContractStatusId'].fillna(0)"
      ],
      "outputs": [
        {
          "output_type": "execute_result",
          "execution_count": 15,
          "data": {
            "text/plain": "0         3\n1         6\n2         4\n3         5\n4         3\n         ..\n303628    3\n303629    3\n303630    3\n303631    3\n303632    2\nName: ContractStatusId, Length: 303633, dtype: int64"
          },
          "metadata": {}
        }
      ],
      "execution_count": 15,
      "metadata": {
        "jupyter": {
          "source_hidden": false,
          "outputs_hidden": false
        },
        "nteract": {
          "transient": {
            "deleting": false
          }
        },
        "gather": {
          "logged": 1734219302136
        }
      }
    },
    {
      "cell_type": "code",
      "source": [
        "avg_gross = sum(df['Gross'])/len(df)\n",
        "print(avg_gross)\n",
        "df['Gross'].fillna(avg_gross, inplace=True)\n",
        "df['Gross'].isna().value_counts()"
      ],
      "outputs": [
        {
          "output_type": "stream",
          "name": "stdout",
          "text": "3711.0306766719987\n"
        },
        {
          "output_type": "execute_result",
          "execution_count": 27,
          "data": {
            "text/plain": "False    303633\nName: Gross, dtype: int64"
          },
          "metadata": {}
        }
      ],
      "execution_count": 27,
      "metadata": {
        "jupyter": {
          "source_hidden": false,
          "outputs_hidden": false
        },
        "nteract": {
          "transient": {
            "deleting": false
          }
        },
        "gather": {
          "logged": 1734219705673
        }
      }
    },
    {
      "cell_type": "code",
      "source": [
        "df['BlueCardId'].fillna(0, inplace=True)\n",
        "df['BlueCardId'].isna().value_counts()"
      ],
      "outputs": [
        {
          "output_type": "execute_result",
          "execution_count": 4,
          "data": {
            "text/plain": "False    303633\nName: BlueCardId, dtype: int64"
          },
          "metadata": {}
        }
      ],
      "execution_count": 4,
      "metadata": {
        "jupyter": {
          "source_hidden": false,
          "outputs_hidden": false
        },
        "nteract": {
          "transient": {
            "deleting": false
          }
        },
        "gather": {
          "logged": 1734219969878
        }
      }
    },
    {
      "cell_type": "code",
      "source": [
        "df['LeadSourceId'].fillna(0, inplace=True)\n",
        "df['LeadSourceId'].isna().value_counts()"
      ],
      "outputs": [
        {
          "output_type": "execute_result",
          "execution_count": 6,
          "data": {
            "text/plain": "False    303633\nName: LeadSourceId, dtype: int64"
          },
          "metadata": {}
        }
      ],
      "execution_count": 6,
      "metadata": {
        "jupyter": {
          "source_hidden": false,
          "outputs_hidden": false
        },
        "nteract": {
          "transient": {
            "deleting": false
          }
        },
        "gather": {
          "logged": 1734220068965
        }
      }
    },
    {
      "cell_type": "code",
      "source": [
        "df['ContractTypeId'].fillna(0, inplace=True)\n",
        "df['ContractTypeId'].isna().value_counts()"
      ],
      "outputs": [
        {
          "output_type": "execute_result",
          "execution_count": 8,
          "data": {
            "text/plain": "False    303633\nName: ContractTypeId, dtype: int64"
          },
          "metadata": {}
        }
      ],
      "execution_count": 8,
      "metadata": {
        "jupyter": {
          "source_hidden": false,
          "outputs_hidden": false
        },
        "nteract": {
          "transient": {
            "deleting": false
          }
        },
        "gather": {
          "logged": 1734220124282
        }
      }
    },
    {
      "cell_type": "code",
      "source": [
        "df['ResellerId'].fillna(0, inplace=True)\n",
        "df['ResellerId'].isna().value_counts()"
      ],
      "outputs": [
        {
          "output_type": "execute_result",
          "execution_count": 18,
          "data": {
            "text/plain": "False    303633\nName: ResellerId, dtype: int64"
          },
          "metadata": {}
        }
      ],
      "execution_count": 18,
      "metadata": {
        "jupyter": {
          "source_hidden": false,
          "outputs_hidden": false
        },
        "nteract": {
          "transient": {
            "deleting": false
          }
        },
        "gather": {
          "logged": 1734220544021
        }
      }
    },
    {
      "cell_type": "code",
      "source": [
        "df['ContractDueDate'].fillna(method='ffill', inplace=True)\n",
        "df['ContractDueDate'].isna().value_counts()"
      ],
      "outputs": [
        {
          "output_type": "execute_result",
          "execution_count": 25,
          "data": {
            "text/plain": "False    303633\nName: ContractDueDate, dtype: int64"
          },
          "metadata": {}
        }
      ],
      "execution_count": 25,
      "metadata": {
        "jupyter": {
          "source_hidden": false,
          "outputs_hidden": false
        },
        "nteract": {
          "transient": {
            "deleting": false
          }
        },
        "gather": {
          "logged": 1734220840994
        }
      }
    },
    {
      "cell_type": "code",
      "source": [
        "df['ContractDueFromId'].fillna(0, inplace=True)\n",
        "df['ContractDueFromId'].isna().value_counts()"
      ],
      "outputs": [
        {
          "output_type": "execute_result",
          "execution_count": 27,
          "data": {
            "text/plain": "False    303633\nName: ContractDueFromId, dtype: int64"
          },
          "metadata": {}
        }
      ],
      "execution_count": 27,
      "metadata": {
        "jupyter": {
          "source_hidden": false,
          "outputs_hidden": false
        },
        "nteract": {
          "transient": {
            "deleting": false
          }
        },
        "gather": {
          "logged": 1734221931379
        }
      }
    },
    {
      "cell_type": "code",
      "source": [
        "df['EventTypeId'].fillna(0, inplace=True)\n",
        "df['EventTypeId'].isna().value_counts()"
      ],
      "outputs": [
        {
          "output_type": "execute_result",
          "execution_count": 31,
          "data": {
            "text/plain": "False    303633\nName: EventTypeId, dtype: int64"
          },
          "metadata": {}
        }
      ],
      "execution_count": 31,
      "metadata": {
        "jupyter": {
          "source_hidden": false,
          "outputs_hidden": false
        },
        "nteract": {
          "transient": {
            "deleting": false
          }
        },
        "gather": {
          "logged": 1734222099733
        }
      }
    },
    {
      "cell_type": "code",
      "source": [
        "df['TimezoneId'].fillna(0, inplace=True)\n",
        "df['TimezoneId'].isna().value_counts()"
      ],
      "outputs": [
        {
          "output_type": "execute_result",
          "execution_count": 33,
          "data": {
            "text/plain": "False    303633\nName: TimezoneId, dtype: int64"
          },
          "metadata": {}
        }
      ],
      "execution_count": 33,
      "metadata": {
        "jupyter": {
          "source_hidden": false,
          "outputs_hidden": false
        },
        "nteract": {
          "transient": {
            "deleting": false
          }
        },
        "gather": {
          "logged": 1734222178728
        }
      }
    },
    {
      "cell_type": "code",
      "source": [
        "df['PresenterId'].fillna(0, inplace=True)\n",
        "df['PresenterId'].isna().value_counts()"
      ],
      "outputs": [
        {
          "output_type": "execute_result",
          "execution_count": 35,
          "data": {
            "text/plain": "False    303633\nName: PresenterId, dtype: int64"
          },
          "metadata": {}
        }
      ],
      "execution_count": 35,
      "metadata": {
        "jupyter": {
          "source_hidden": false,
          "outputs_hidden": false
        },
        "nteract": {
          "transient": {
            "deleting": false
          }
        },
        "gather": {
          "logged": 1734222218422
        }
      }
    },
    {
      "cell_type": "code",
      "source": [
        "df['PresenterTypeId'].fillna(0, inplace=True)\n",
        "df['PresenterTypeId'].isna().value_counts()"
      ],
      "outputs": [
        {
          "output_type": "execute_result",
          "execution_count": 37,
          "data": {
            "text/plain": "False    303633\nName: PresenterTypeId, dtype: int64"
          },
          "metadata": {}
        }
      ],
      "execution_count": 37,
      "metadata": {
        "jupyter": {
          "source_hidden": false,
          "outputs_hidden": false
        },
        "nteract": {
          "transient": {
            "deleting": false
          }
        },
        "gather": {
          "logged": 1734222281413
        }
      }
    },
    {
      "cell_type": "code",
      "source": [
        "df['VenuePhysicalCountryId'].fillna(0, inplace=True)\n",
        "df['VenuePhysicalCountryId'].isna().value_counts()"
      ],
      "outputs": [
        {
          "output_type": "execute_result",
          "execution_count": 39,
          "data": {
            "text/plain": "False    303633\nName: VenuePhysicalCountryId, dtype: int64"
          },
          "metadata": {}
        }
      ],
      "execution_count": 39,
      "metadata": {
        "jupyter": {
          "source_hidden": false,
          "outputs_hidden": false
        },
        "nteract": {
          "transient": {
            "deleting": false
          }
        },
        "gather": {
          "logged": 1734222378148
        }
      }
    },
    {
      "cell_type": "code",
      "source": [
        "df['VenuePhysicalStateId'].fillna(0, inplace=True)\n",
        "df['VenuePhysicalStateId'].isna().value_counts()"
      ],
      "outputs": [
        {
          "output_type": "execute_result",
          "execution_count": 41,
          "data": {
            "text/plain": "False    303633\nName: VenuePhysicalStateId, dtype: int64"
          },
          "metadata": {}
        }
      ],
      "execution_count": 41,
      "metadata": {
        "jupyter": {
          "source_hidden": false,
          "outputs_hidden": false
        },
        "nteract": {
          "transient": {
            "deleting": false
          }
        },
        "gather": {
          "logged": 1734222490055
        }
      }
    },
    {
      "cell_type": "code",
      "source": [
        "df['IssueDate'].fillna(method='ffill', inplace=True)\n",
        "df['IssueDate'].isna().value_counts()"
      ],
      "outputs": [
        {
          "output_type": "execute_result",
          "execution_count": 42,
          "data": {
            "text/plain": "False    303633\nName: IssueDate, dtype: int64"
          },
          "metadata": {}
        }
      ],
      "execution_count": 42,
      "metadata": {
        "jupyter": {
          "source_hidden": false,
          "outputs_hidden": false
        },
        "nteract": {
          "transient": {
            "deleting": false
          }
        },
        "gather": {
          "logged": 1734222598741
        }
      }
    },
    {
      "cell_type": "code",
      "source": [
        "df['CancellationDate'].fillna(method='ffill', inplace=True)\n",
        "df['CancellationDate'].isna().value_counts()"
      ],
      "outputs": [
        {
          "output_type": "execute_result",
          "execution_count": 6,
          "data": {
            "text/plain": "False    303633\nName: CancellationDate, dtype: int64"
          },
          "metadata": {}
        }
      ],
      "execution_count": 6,
      "metadata": {
        "jupyter": {
          "source_hidden": false,
          "outputs_hidden": false
        },
        "nteract": {
          "transient": {
            "deleting": false
          }
        },
        "gather": {
          "logged": 1734305962835
        }
      }
    },
    {
      "cell_type": "code",
      "source": [
        "df['CommissionProgramId'].fillna(0, inplace=True)\n",
        "df['CommissionProgramId'].isna().value_counts()"
      ],
      "outputs": [
        {
          "output_type": "execute_result",
          "execution_count": 46,
          "data": {
            "text/plain": "False    303633\nName: CommissionProgramId, dtype: int64"
          },
          "metadata": {}
        }
      ],
      "execution_count": 46,
      "metadata": {
        "jupyter": {
          "source_hidden": false,
          "outputs_hidden": false
        },
        "nteract": {
          "transient": {
            "deleting": false
          }
        },
        "gather": {
          "logged": 1734223962296
        }
      }
    },
    {
      "cell_type": "code",
      "source": [
        "df['CommissionProgramAgentId'].fillna(0, inplace=True)\n",
        "df['CommissionProgramAgentId'].isna().value_counts()"
      ],
      "outputs": [
        {
          "output_type": "execute_result",
          "execution_count": 47,
          "data": {
            "text/plain": "False    303633\nName: CommissionProgramAgentId, dtype: int64"
          },
          "metadata": {}
        }
      ],
      "execution_count": 47,
      "metadata": {
        "jupyter": {
          "source_hidden": false,
          "outputs_hidden": false
        },
        "nteract": {
          "transient": {
            "deleting": false
          }
        },
        "gather": {
          "logged": 1734223976023
        }
      }
    },
    {
      "cell_type": "code",
      "source": [
        "df['CreatedById'].fillna(0, inplace=True)\n",
        "df['CreatedById'].isna().value_counts()"
      ],
      "outputs": [
        {
          "output_type": "execute_result",
          "execution_count": 48,
          "data": {
            "text/plain": "False    303633\nName: CreatedById, dtype: int64"
          },
          "metadata": {}
        }
      ],
      "execution_count": 48,
      "metadata": {
        "jupyter": {
          "source_hidden": false,
          "outputs_hidden": false
        },
        "nteract": {
          "transient": {
            "deleting": false
          }
        },
        "gather": {
          "logged": 1734224109750
        }
      }
    },
    {
      "cell_type": "code",
      "source": [
        "df['UpdatedById'].fillna(0, inplace=True)\n",
        "df['UpdatedById'].isna().value_counts()"
      ],
      "outputs": [
        {
          "output_type": "execute_result",
          "execution_count": 49,
          "data": {
            "text/plain": "False    303633\nName: UpdatedById, dtype: int64"
          },
          "metadata": {}
        }
      ],
      "execution_count": 49,
      "metadata": {
        "jupyter": {
          "source_hidden": false,
          "outputs_hidden": false
        },
        "nteract": {
          "transient": {
            "deleting": false
          }
        },
        "gather": {
          "logged": 1734224345093
        }
      }
    },
    {
      "cell_type": "code",
      "source": [
        "df['UpdatedDate'].fillna(method='ffill', inplace=True)\n",
        "df['UpdatedDate'].isna().value_counts()"
      ],
      "outputs": [
        {
          "output_type": "execute_result",
          "execution_count": 50,
          "data": {
            "text/plain": "False    303633\nName: UpdatedDate, dtype: int64"
          },
          "metadata": {}
        }
      ],
      "execution_count": 50,
      "metadata": {
        "jupyter": {
          "source_hidden": false,
          "outputs_hidden": false
        },
        "nteract": {
          "transient": {
            "deleting": false
          }
        },
        "gather": {
          "logged": 1734224395480
        }
      }
    },
    {
      "cell_type": "code",
      "source": [
        "df['ArchiveDate'].fillna(method='ffill', inplace=True)\n",
        "df['ArchiveDate'].isna().value_counts()"
      ],
      "outputs": [
        {
          "output_type": "execute_result",
          "execution_count": 51,
          "data": {
            "text/plain": "False    303633\nName: ArchiveDate, dtype: int64"
          },
          "metadata": {}
        }
      ],
      "execution_count": 51,
      "metadata": {
        "jupyter": {
          "source_hidden": false,
          "outputs_hidden": false
        },
        "nteract": {
          "transient": {
            "deleting": false
          }
        },
        "gather": {
          "logged": 1734224419357
        }
      }
    },
    {
      "cell_type": "code",
      "source": [
        "df['OriginalGross'].isna().value_counts()"
      ],
      "outputs": [
        {
          "output_type": "execute_result",
          "execution_count": 4,
          "data": {
            "text/plain": "True     302523\nFalse      1110\nName: OriginalGross, dtype: int64"
          },
          "metadata": {}
        }
      ],
      "execution_count": 4,
      "metadata": {
        "jupyter": {
          "source_hidden": false,
          "outputs_hidden": false
        },
        "nteract": {
          "transient": {
            "deleting": false
          }
        },
        "gather": {
          "logged": 1734304870455
        }
      }
    },
    {
      "cell_type": "code",
      "source": [
        "avg_org_gross = df['OriginalGross'].sum()/len(df)\n",
        "print(avg_org_gross)\n",
        "df['OriginalGross'].fillna(avg_org_gross, inplace=True)\n",
        "df['OriginalGross'].isna().value_counts()"
      ],
      "outputs": [
        {
          "output_type": "stream",
          "name": "stdout",
          "text": "40.16742396248102\n"
        },
        {
          "output_type": "execute_result",
          "execution_count": 11,
          "data": {
            "text/plain": "False    303633\nName: OriginalGross, dtype: int64"
          },
          "metadata": {}
        }
      ],
      "execution_count": 11,
      "metadata": {
        "jupyter": {
          "source_hidden": false,
          "outputs_hidden": false
        },
        "nteract": {
          "transient": {
            "deleting": false
          }
        },
        "gather": {
          "logged": 1734306157297
        }
      }
    },
    {
      "cell_type": "markdown",
      "source": [
        "**2.)Data pre-processing**"
      ],
      "metadata": {
        "nteract": {
          "transient": {
            "deleting": false
          }
        }
      }
    },
    {
      "cell_type": "code",
      "source": [
        "format = '%YYYY-%mm-%dd'\n",
        "def validate_date_format(format, date_format):\n",
        "    try:\n",
        "        pd.to_datetime(format, format=date_format)\n",
        "        return True\n",
        "    except:\n",
        "        return False\n",
        "    \n",
        "df['isIssueDateValid'] = df['IssueDate'].apply(lambda x: validate_date_format(x, format))\n",
        "df['isIssueDateValid'].value_counts()\n"
      ],
      "outputs": [
        {
          "output_type": "execute_result",
          "execution_count": 15,
          "data": {
            "text/plain": "True    303633\nName: isIssueDateValid, dtype: int64"
          },
          "metadata": {}
        }
      ],
      "execution_count": 15,
      "metadata": {
        "jupyter": {
          "source_hidden": false,
          "outputs_hidden": false
        },
        "nteract": {
          "transient": {
            "deleting": false
          }
        },
        "gather": {
          "logged": 1734310616612
        }
      }
    },
    {
      "cell_type": "code",
      "source": [
        "df['IsContractDueDateValid'] = df['ContractDueDate'].apply(lambda x: validate_date_format(x, format))\n",
        "df['IsContractDueDateValid'].value_counts()"
      ],
      "outputs": [
        {
          "output_type": "execute_result",
          "execution_count": 16,
          "data": {
            "text/plain": "True    303633\nName: IsContractDueDateValid, dtype: int64"
          },
          "metadata": {}
        }
      ],
      "execution_count": 16,
      "metadata": {
        "jupyter": {
          "source_hidden": false,
          "outputs_hidden": false
        },
        "nteract": {
          "transient": {
            "deleting": false
          }
        },
        "gather": {
          "logged": 1734310719855
        }
      }
    },
    {
      "cell_type": "code",
      "source": [
        "df['IsArchiveDateValid'] = df['ArchiveDate'].apply(lambda x: validate_date_format(x, format))\n",
        "df['IsArchiveDateValid'].value_counts()"
      ],
      "outputs": [
        {
          "output_type": "execute_result",
          "execution_count": 17,
          "data": {
            "text/plain": "False    166517\nTrue     137116\nName: IsArchiveDateValid, dtype: int64"
          },
          "metadata": {}
        }
      ],
      "execution_count": 17,
      "metadata": {
        "jupyter": {
          "source_hidden": false,
          "outputs_hidden": false
        },
        "nteract": {
          "transient": {
            "deleting": false
          }
        },
        "gather": {
          "logged": 1734310854916
        }
      }
    },
    {
      "cell_type": "code",
      "source": [
        "df['ArchiveDate'] = pd.to_datetime(df['ArchiveDate'], format=format, errors='coerce')\n",
        "df['IsArchiveDateValid'] = df['ArchiveDate'].apply(lambda x: validate_date_format(x, format))\n",
        "df['IsArchiveDateValid'].value_counts()"
      ],
      "outputs": [
        {
          "output_type": "execute_result",
          "execution_count": 19,
          "data": {
            "text/plain": "True    303633\nName: IsArchiveDateValid, dtype: int64"
          },
          "metadata": {}
        }
      ],
      "execution_count": 19,
      "metadata": {
        "jupyter": {
          "source_hidden": false,
          "outputs_hidden": false
        },
        "nteract": {
          "transient": {
            "deleting": false
          }
        },
        "gather": {
          "logged": 1734311314158
        }
      }
    },
    {
      "cell_type": "code",
      "source": [
        "df['IsCreatedDateValid'] = df['CreatedDate'].apply(lambda x: validate_date_format(x, format))\n",
        "df['IsCreatedDateValid'].value_counts()"
      ],
      "outputs": [
        {
          "output_type": "execute_result",
          "execution_count": 20,
          "data": {
            "text/plain": "True    303633\nName: IsCreatedDateValid, dtype: int64"
          },
          "metadata": {}
        }
      ],
      "execution_count": 20,
      "metadata": {
        "jupyter": {
          "source_hidden": false,
          "outputs_hidden": false
        },
        "nteract": {
          "transient": {
            "deleting": false
          }
        },
        "gather": {
          "logged": 1734311675241
        }
      }
    },
    {
      "cell_type": "code",
      "source": [
        "df['IsUpdatedDateValid'] = df['UpdatedDate'].apply(lambda x:validate_date_format(x, format))\n",
        "df['IsUpdatedDateValid'].value_counts()"
      ],
      "outputs": [
        {
          "output_type": "execute_result",
          "execution_count": 23,
          "data": {
            "text/plain": "True    303633\nName: IsUpdatedDateValid, dtype: int64"
          },
          "metadata": {}
        }
      ],
      "execution_count": 23,
      "metadata": {
        "jupyter": {
          "source_hidden": false,
          "outputs_hidden": false
        },
        "nteract": {
          "transient": {
            "deleting": false
          }
        },
        "gather": {
          "logged": 1734312939240
        }
      }
    },
    {
      "cell_type": "code",
      "source": [
        "df['IsCancellationDateValid'] = df['CancellationDate'].apply(lambda x:validate_date_format(x, format))\n",
        "df['IsCancellationDateValid'].value_counts()"
      ],
      "outputs": [
        {
          "output_type": "execute_result",
          "execution_count": 24,
          "data": {
            "text/plain": "True    303633\nName: IsCancellationDateValid, dtype: int64"
          },
          "metadata": {}
        }
      ],
      "execution_count": 24,
      "metadata": {
        "jupyter": {
          "source_hidden": false,
          "outputs_hidden": false
        },
        "nteract": {
          "transient": {
            "deleting": false
          }
        },
        "gather": {
          "logged": 1734313516810
        }
      }
    },
    {
      "cell_type": "markdown",
      "source": [
        "**3.) Feature Engineering**"
      ],
      "metadata": {
        "nteract": {
          "transient": {
            "deleting": false
          }
        }
      }
    },
    {
      "cell_type": "code",
      "source": [
        "df['CreatedDate'] = pd.to_datetime(df['CreatedDate'], errors='coerce')\n",
        "df['CancellationDate'] = pd.to_datetime(df['CancellationDate'], errors='coerce')\n",
        "df['ContractDuration'] = abs(df['CancellationDate'].dt.year - df['CreatedDate'].dt.year)\n",
        "avg_contract_duration = round(df['ContractDuration'].sum()/len(df), 3)\n",
        "df['ContractDuration'].fillna(avg_contract_duration, inplace=True)\n",
        "df['ContractDuration']"
      ],
      "outputs": [
        {
          "output_type": "execute_result",
          "execution_count": 13,
          "data": {
            "text/plain": "0.039     259129\n0.000      35179\n1.000       7809\n2.000        955\n3.000        356\n4.000        103\n5.000         43\n6.000         26\n11.000         7\n13.000         7\n12.000         4\n7.000          4\n10.000         4\n9.000          3\n8.000          3\n23.000         1\nName: ContractDuration, dtype: int64"
          },
          "metadata": {}
        }
      ],
      "execution_count": 13,
      "metadata": {
        "jupyter": {
          "source_hidden": false,
          "outputs_hidden": false
        },
        "nteract": {
          "transient": {
            "deleting": false
          }
        },
        "gather": {
          "logged": 1734323383521
        }
      }
    },
    {
      "cell_type": "markdown",
      "source": [
        "**4.) Exploratory Data Analysis**"
      ],
      "metadata": {
        "nteract": {
          "transient": {
            "deleting": false
          }
        }
      }
    },
    {
      "cell_type": "code",
      "source": [
        "df['ContractDurationMonths'] = df['ContractDuration']*12\n",
        "df['ContractDurationMonths'].value_counts()"
      ],
      "outputs": [
        {
          "output_type": "execute_result",
          "execution_count": 22,
          "data": {
            "text/plain": "0.468      259129\n0.000       35179\n12.000       7809\n24.000        955\n36.000        356\n48.000        103\n60.000         43\n72.000         26\n132.000         7\n156.000         7\n144.000         4\n84.000          4\n120.000         4\n108.000         3\n96.000          3\n276.000         1\nName: ContractDurationMonths, dtype: int64"
          },
          "metadata": {}
        }
      ],
      "execution_count": 22,
      "metadata": {
        "jupyter": {
          "source_hidden": false,
          "outputs_hidden": false
        },
        "nteract": {
          "transient": {
            "deleting": false
          }
        },
        "gather": {
          "logged": 1734324565538
        }
      }
    },
    {
      "cell_type": "code",
      "source": [
        "plt.title('Contract Duration in Months')\n",
        "plt.hist(df['ContractDurationMonths'], range=(1,50))\n",
        "plt.show()"
      ],
      "outputs": [
        {
          "output_type": "display_data",
          "data": {
            "text/plain": "<Figure size 640x480 with 1 Axes>",
            "image/png": "[encoded data removed]"
          },
          "metadata": {}
        }
      ],
      "execution_count": 27,
      "metadata": {
        "jupyter": {
          "source_hidden": false,
          "outputs_hidden": false
        },
        "nteract": {
          "transient": {
            "deleting": false
          }
        },
        "gather": {
          "logged": 1734324882906
        }
      }
    }
  ],
  "metadata": {
    "kernelspec": {
      "name": "python38-azureml",
      "language": "python",
      "display_name": "Python 3.8 - AzureML"
    },
    "language_info": {
      "name": "python",
      "version": "3.10.11",
      "mimetype": "text/x-python",
      "codemirror_mode": {
        "name": "ipython",
        "version": 3
      },
      "pygments_lexer": "ipython3",
      "nbconvert_exporter": "python",
      "file_extension": ".py"
    },
    "microsoft": {
      "ms_spell_check": {
        "ms_spell_check_language": "en"
      },
      "host": {
        "AzureML": {
          "notebookHasBeenCompleted": true
        }
      }
    },
    "nteract": {
      "version": "nteract-front-end@1.0.0"
    },
    "kernel_info": {
      "name": "python38-azureml"
    }
  },
  "nbformat": 4,
  "nbformat_minor": 2
}